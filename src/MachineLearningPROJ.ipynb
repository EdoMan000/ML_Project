{
 "cells": [
  {
   "cell_type": "code",
   "execution_count": 13,
   "metadata": {},
   "outputs": [],
   "source": [
    "import os\n",
    "import logging\n",
    "import warnings\n",
    "import numpy as np\n",
    "import pandas as pd\n",
    "import matplotlib.pyplot as plt\n",
    "import seaborn as sns\n",
    "import tensorflow as tf\n",
    "from tensorflow.keras import layers, models\n",
    "from sklearn.model_selection import train_test_split, RandomizedSearchCV\n",
    "from sklearn.neighbors import KNeighborsClassifier\n",
    "from sklearn.ensemble import RandomForestClassifier\n",
    "from sklearn.linear_model import LogisticRegression\n",
    "from sklearn.metrics import classification_report, accuracy_score\n",
    "from scipy.stats import uniform\n",
    "from rich.console import Console\n",
    "from rich.table import Table\n",
    "from rich.text import Text\n",
    "\n",
    "# Configurazione di TensorFlow per ridurre l'output non necessario\n",
    "os.environ['TF_CPP_MIN_LOG_LEVEL'] = '3'  # Questo rimuove i log informativi e warnings di TensorFlow\n",
    "tf.get_logger().setLevel(logging.ERROR)\n",
    "\n",
    "# Ignora i warning\n",
    "warnings.filterwarnings(\"ignore\")\n"
   ]
  },
  {
   "cell_type": "code",
   "execution_count": 14,
   "metadata": {},
   "outputs": [],
   "source": [
    "console = Console()\n",
    "\n",
    "def printSuccess(message):\n",
    "    \"\"\"\n",
    "    Prints the given message in bright green.\n",
    "    \n",
    "    Parameters:\n",
    "    - message (str): The message to print\n",
    "    \"\"\"\n",
    "    success_text = Text(message, style=\"bold bright_green\")\n",
    "    console.print(success_text)\n",
    "\n",
    "def printError(message):\n",
    "    \"\"\"\n",
    "    Prints the given message in bright red.\n",
    "    \n",
    "    Parameters:\n",
    "    - message (str): The message to print\n",
    "    \"\"\"\n",
    "    error_text = Text(message, style=\"bold bright_red\")\n",
    "    console.print(error_text)\n",
    "\n",
    "def create_rich_table(title, columns, rows):\n",
    "    \"\"\"\n",
    "    Crea e stampa una tabella formattata con Rich.\n",
    "\n",
    "    Parameters:\n",
    "    - title (str): Il titolo della tabella.\n",
    "    - columns (list of dict): Lista di dizionari, ognuno contenente il nome della colonna e opzioni come 'justify' e 'style'.\n",
    "      Esempio: [{'header': 'Col1', 'justify': 'right', 'style': 'cyan'}, {...}]\n",
    "    - rows (list of list): Lista di righe, ognuna contenente i valori delle colonne in ordine.\n",
    "      Esempio: [['Val1', 'Val2', ...], ['ValA', 'ValB', ...]]\n",
    "    \"\"\"\n",
    "    table = Table(title=title)\n",
    "    \n",
    "    # Aggiungi colonne alla tabella\n",
    "    for col in columns:\n",
    "        table.add_column(col['header'], justify=col.get('justify', 'center'), style=col.get('style', 'bright_white'))\n",
    "    \n",
    "    # Aggiungi righe alla tabella\n",
    "    for row in rows:\n",
    "        table.add_row(*row)\n",
    "    \n",
    "    # Stampa la tabella\n",
    "    console.print(table)\n",
    "\n",
    "# Funzione per stampare i risultati in una tabella con Rich\n",
    "def print_evaluation_table(model_name, test_class_report, test_accuracy):\n",
    "    console = Console()\n",
    "    table = Table(title=\"Model Evaluation Results for \" + model_name)\n",
    "\n",
    "    # Aggiunta delle colonne\n",
    "    table.add_column(\"Metric\", style=\"bright_cyan\", no_wrap=True)\n",
    "    table.add_column(\"Result\", justify=\"center\", style=\"bright_green\")\n",
    "\n",
    "    # Aggiunta dei risultati\n",
    "    table.add_row(\"Accuracy\", f\"{test_accuracy:.4f}\")\n",
    "    table.add_row(\"Precision (wgtd_avg)\", f\"{test_class_report['weighted avg']['precision']:.4f}\")\n",
    "    table.add_row(\"Recall (wgtd_avg)\",  f\"{test_class_report['weighted avg']['recall']:.4f}\")\n",
    "    table.add_row(\"F1-Score (wgtd_avg)\", f\"{test_class_report['weighted avg']['f1-score']:.4f}\")\n",
    "\n",
    "    # Stampa della tabella\n",
    "    console.print(table)\n",
    "\n",
    "# Stampa dei migliori iperparametri in una tabella con Rich\n",
    "def print_best_params_table(model_name, best_params):\n",
    "    console = Console()\n",
    "    table = Table(title=\"Best Hyperparameters for \" + model_name)\n",
    "\n",
    "    table.add_column(\"Hyperparameter\", style=\"bright_cyan\", no_wrap=True)\n",
    "    table.add_column(\"Value\", justify=\"center\", style=\"bright_magenta\")\n",
    "\n",
    "    for param, value in best_params.items():\n",
    "        table.add_row(param, str(value))\n",
    "\n",
    "    console.print(table)"
   ]
  },
  {
   "cell_type": "code",
   "execution_count": 15,
   "metadata": {},
   "outputs": [],
   "source": [
    "# Dizionario globale per memorizzare i risultati dei vari modelli\n",
    "global_model_results = {}\n",
    "\n",
    "def save_model_results(model_name, test_class_report, test_accuracy):\n",
    "    \"\"\"\n",
    "    Salva i risultati del modello nel dizionario globale.\n",
    "    \n",
    "    Args:\n",
    "        model_name (str): Nome del modello (es. 'KNN', 'Random Forest', 'Logistic Regression').\n",
    "        test_class_report (dict): Report di classificazione per il test set.\n",
    "        test_accuracy (float): Accuracy sul test set.\n",
    "    \"\"\"\n",
    "    global global_model_results\n",
    "    \n",
    "    # Verifica che i risultati siano specifici per il modello corrente\n",
    "    model_results = {\n",
    "        'Test Accuracy': test_accuracy,\n",
    "        'Test Precision': test_class_report['weighted avg']['precision'],\n",
    "        'Test Recall': test_class_report['weighted avg']['recall'],\n",
    "        'Test F1-Score': test_class_report['weighted avg']['f1-score']\n",
    "    }\n",
    "    \n",
    "    # Salva i risultati nel dizionario globale usando il nome del modello come chiave\n",
    "    global_model_results[model_name] = model_results"
   ]
  },
  {
   "cell_type": "code",
   "execution_count": 16,
   "metadata": {},
   "outputs": [],
   "source": [
    "def evaluate_and_save_model(model_name, final_model, images_testing, labels_testing):\n",
    "    \"\"\"\n",
    "    Esegue la valutazione del modello sul test set, stampa i risultati\n",
    "    e salva i risultati nel dizionario globale.\n",
    "\n",
    "    Args:\n",
    "        model_name (str): Nome del modello (es. 'KNN', 'Random Forest', 'Logistic Regression', 'LeNet').\n",
    "        final_model: Il modello finale addestrato con il training set combinato (training + validation).\n",
    "        images_testing: Immagini del test set (non appiattite per modelli CNN).\n",
    "        labels_testing: Etichette del test set.\n",
    "    \"\"\"\n",
    "\n",
    "    # Predizione delle probabilità o delle etichette discrete per il test set\n",
    "    y_test_pred_prob = final_model.predict(images_testing)\n",
    "\n",
    "    # Controllo se il modello restituisce probabilità (tipico per modelli di reti neurali)\n",
    "    if y_test_pred_prob.ndim > 1 and y_test_pred_prob.shape[1] > 1:\n",
    "        # Conversione delle probabilità in etichette discrete\n",
    "        y_test_pred = np.argmax(y_test_pred_prob, axis=1)\n",
    "        \n",
    "        # Conversione delle etichette del test set in un formato compatibile se necessario (ad esempio se sono one-hot encoded)\n",
    "        if labels_testing.ndim > 1 and labels_testing.shape[1] > 1:\n",
    "            labels_testing = np.argmax(labels_testing, axis=1)\n",
    "    else:\n",
    "        # Se il modello restituisce direttamente le etichette\n",
    "        y_test_pred = y_test_pred_prob\n",
    "\n",
    "    # Valutazione del modello sul test set\n",
    "    test_class_report = classification_report(labels_testing, y_test_pred, output_dict=True)\n",
    "    test_accuracy = accuracy_score(labels_testing, y_test_pred)\n",
    "\n",
    "    print(test_class_report)\n",
    "\n",
    "    # Stampa dei risultati della valutazione in una tabella formattata\n",
    "    print_evaluation_table(model_name, test_class_report, test_accuracy)\n",
    "\n",
    "    # Salvataggio dei risultati nel dizionario globale\n",
    "    save_model_results(model_name, test_class_report, test_accuracy)\n"
   ]
  },
  {
   "cell_type": "code",
   "execution_count": 17,
   "metadata": {},
   "outputs": [],
   "source": [
    "def plot_global_comparison(yLim_touple):\n",
    "    # Supponiamo che global_model_results sia già popolato con i risultati dei modelli\n",
    "    # Converti i risultati in un DataFrame per un confronto più semplice\n",
    "    df_results = pd.DataFrame(global_model_results).transpose()\n",
    "\n",
    "    # Reset index per avere i nomi dei modelli come colonna\n",
    "    df_results.reset_index(inplace=True)\n",
    "    df_results.rename(columns={'index': 'Model'}, inplace=True)\n",
    "\n",
    "    # Configurazione dello stile del grafico\n",
    "    sns.set(style=\"whitegrid\")\n",
    "    palette = sns.color_palette(\"bright\", len(df_results))\n",
    "\n",
    "    # Creazione di un grafico a barre multiple per confrontare le metriche principali\n",
    "    plt.figure(figsize=(20, 12))\n",
    "\n",
    "    # Accuracy plot\n",
    "    plt.subplot(2, 2, 1)\n",
    "    sns.barplot(x='Model', y='Test Accuracy', data=df_results, palette=palette)\n",
    "    plt.title('Model Accuracy Comparison')\n",
    "    plt.ylabel('Accuracy')\n",
    "    plt.ylim(yLim_touple)\n",
    "\n",
    "    # F1-Score plot\n",
    "    plt.subplot(2, 2, 2)\n",
    "    sns.barplot(x='Model', y='Test F1-Score', data=df_results, palette=palette)\n",
    "    plt.title('Model F1-Score Comparison')\n",
    "    plt.ylabel('F1-Score')\n",
    "    plt.ylim(yLim_touple)\n",
    "\n",
    "    # Precision plot\n",
    "    plt.subplot(2, 2, 3)\n",
    "    sns.barplot(x='Model', y='Test Precision', data=df_results, palette=palette)\n",
    "    plt.title('Model Precision Comparison')\n",
    "    plt.ylabel('Precision')\n",
    "    plt.ylim(yLim_touple)\n",
    "\n",
    "    # Recall plot\n",
    "    plt.subplot(2, 2, 4)\n",
    "    sns.barplot(x='Model', y='Test Recall', data=df_results, palette=palette)\n",
    "    plt.title('Model Recall Comparison')\n",
    "    plt.ylabel('Recall')\n",
    "    plt.ylim(yLim_touple)\n",
    "\n",
    "    # Regolazione del layout e visualizzazione del grafico\n",
    "    plt.tight_layout()\n",
    "    plt.show()"
   ]
  },
  {
   "cell_type": "markdown",
   "metadata": {},
   "source": [
    "# Traccia A1 - Riconoscimento di Immagini MNIST-like\n",
    "\n",
    "L’obiettivo del progetto è addestrare e valutare uno o più modelli di classificazione sul dataset `MedMNIST-Pneumonia`. Questo dataset contiene una collezione di immagini mediche, come radiografie del torace, classificate in base alla presenza (classe 1) o assenza (classe 0) di polmonite.\n",
    "\n",
    "In questo progetto, procederemo con i seguenti obiettivi:\n",
    "- Esplorare e visualizzare il dataset per comprendere meglio la natura delle immagini.\n",
    "- Preprocessare i dati per prepararli all'addestramento.\n",
    "- Implementare e confrontare diversi modelli di machine learning, partendo da un modello semplice fino a un modello avanzato.\n",
    "- Valutare le performance dei modelli utilizzando metriche appropriate e interpretare i risultati ottenuti.\n",
    "\n",
    "![pneumonia](../res/pneumonia.png)\n",
    "\n",
    "\n",
    "# Visualizzazione Comparativa delle Immagini del Dataset MedMNIST-Pneumonia\n",
    "\n",
    "In questa sezione, visualizzeremo 8 esempi di immagini estratti dal dataset di interesse, suddivisi in 4 immagini con polmonite (classe 1) e 4 senza polmonite (classe 0). L'obiettivo è fornire un confronto visivo diretto tra le radiografie che mostrano la presenza di polmonite e quelle che non la presentano."
   ]
  },
  {
   "cell_type": "code",
   "execution_count": 18,
   "metadata": {},
   "outputs": [
    {
     "data": {
      "image/png": "[encoded data removed]",
      "text/plain": [
       "<Figure size 1152x576 with 8 Axes>"
      ]
     },
     "metadata": {
      "needs_background": "light"
     },
     "output_type": "display_data"
    }
   ],
   "source": [
    "images = np.load(\"../res/pneumonia_images.npy\")\n",
    "labels = np.load(\"../res/pneumonia_labels.npy\")\n",
    "\n",
    "indices_with_pneumonia = np.where(labels == 1)[0]\n",
    "indices_without_pneumonia = np.where(labels == 0)[0]\n",
    "\n",
    "plt.figure(figsize=(16, 8))\n",
    "\n",
    "for i in range(4):\n",
    "    # Immagini con polmonite\n",
    "    plt.subplot(2, 4, i + 1)\n",
    "    plt.imshow(images[indices_with_pneumonia[i]], cmap='gray')\n",
    "    plt.title(f'Polmonite [Classe:{labels[indices_with_pneumonia[i]][0]}]')\n",
    "    plt.axis('off')\n",
    "\n",
    "    # Immagini senza polmonite\n",
    "    plt.subplot(2, 4, i + 5)\n",
    "    plt.imshow(images[indices_without_pneumonia[i]], cmap='gray')\n",
    "    plt.title(f'Senza Polmonite [Classe:{labels[indices_without_pneumonia[i]][0]}]')\n",
    "    plt.axis('off')\n",
    "\n",
    "plt.show()\n"
   ]
  },
  {
   "cell_type": "markdown",
   "metadata": {},
   "source": [
    "# Preparazione dei Dati\n",
    "\n",
    "In questa sezione, prepareremo i dati per l'addestramento dei modelli. Le fasi principali includeranno:\n",
    "- **Normalizzazione**: Ridimensionamento dei valori dei pixel in un range [0, 1].\n",
    "- **Suddivisione dei Dati**: Separazione del dataset in set di training, validation e testing.\n"
   ]
  },
  {
   "cell_type": "code",
   "execution_count": 19,
   "metadata": {},
   "outputs": [
    {
     "name": "stdout",
     "output_type": "stream",
     "text": [
      "Dimensioni delle Immagini: 28x28\n"
     ]
    }
   ],
   "source": [
    "# Normalizzazione delle immagini (i valori dei pixel vengono ridotti a [0, 1])\n",
    "images = images / 255.0\n",
    "\n",
    "# Suddivisione del dataset in training (70%), validation (15%) e testing (15%)\n",
    "images_training, X_temp, labels_training, y_temp = train_test_split(images, labels, test_size=0.3, random_state=42)\n",
    "images_validation, images_testing, labels_validation, labels_testing = train_test_split(X_temp, y_temp, test_size=0.5, random_state=42)\n",
    "\n",
    "# Flatten delle immagini per compatibilità con primi modelli\n",
    "images_training_flat = images_training.reshape(images_training.shape[0], -1)\n",
    "images_validation_flat = images_validation.reshape(images_validation.shape[0], -1)\n",
    "images_testing_flat = images_testing.reshape(images_testing.shape[0], -1)\n",
    "\n",
    "# Flatten delle immagini per compatibilità con lenet e le altre cnn\n",
    "images_training_cnn = images_training.reshape(-1,28,28,1)\n",
    "images_validation_cnn = images_validation.reshape(-1,28,28,1)\n",
    "images_testing_cnn = images_testing.reshape(-1,28,28,1)\n",
    "\n",
    "# Unione di training e validation set per training sul modello finale\n",
    "images_train_val = np.concatenate((images_training, images_validation))\n",
    "labels_train_val = np.concatenate((labels_training, labels_validation))\n",
    "# Appiattimento del nuovo set di dati combinato\n",
    "images_train_val_flat = images_train_val.reshape(images_train_val.shape[0], -1)\n",
    "images_train_val_cnn = images_train_val.reshape(-1,28,28,1)\n",
    "\n",
    "# Stampa separata delle dimensioni delle immagini\n",
    "print(f\"Dimensioni delle Immagini: {images_training.shape[1]}x{images_training.shape[2]}\")"
   ]
  },
  {
   "cell_type": "code",
   "execution_count": 20,
   "metadata": {},
   "outputs": [
    {
     "data": {
      "text/html": [
       "<pre style=\"white-space:pre;overflow-x:auto;line-height:normal;font-family:Menlo,'DejaVu Sans Mono',consolas,'Courier New',monospace\"><span style=\"font-style: italic\">                      Dataset Split Information                      </span>\n",
       "┏━━━━━━━━━━━━━━━━┳━━━━━━━━━━━━━━━━━━━━┳━━━━━━━━━━━━━━┳━━━━━━━━━━━━━━┓\n",
       "┃<span style=\"font-weight: bold\"> Dataset        </span>┃<span style=\"font-weight: bold\"> Numero di Immagini </span>┃<span style=\"font-weight: bold\"> Classe 0 (%) </span>┃<span style=\"font-weight: bold\"> Classe 1 (%) </span>┃\n",
       "┡━━━━━━━━━━━━━━━━╇━━━━━━━━━━━━━━━━━━━━╇━━━━━━━━━━━━━━╇━━━━━━━━━━━━━━┩\n",
       "│<span style=\"color: #ff00ff; text-decoration-color: #ff00ff\"> Training Set   </span>│<span style=\"color: #00ffff; text-decoration-color: #00ffff\">               3662 </span>│<span style=\"color: #00ff00; text-decoration-color: #00ff00\">        25.72 </span>│<span style=\"color: #ff0000; text-decoration-color: #ff0000\">        74.28 </span>│\n",
       "│<span style=\"color: #ff00ff; text-decoration-color: #ff00ff\"> Validation Set </span>│<span style=\"color: #00ffff; text-decoration-color: #00ffff\">                785 </span>│<span style=\"color: #00ff00; text-decoration-color: #00ff00\">        28.03 </span>│<span style=\"color: #ff0000; text-decoration-color: #ff0000\">        71.97 </span>│\n",
       "│<span style=\"color: #ff00ff; text-decoration-color: #ff00ff\"> Test Set       </span>│<span style=\"color: #00ffff; text-decoration-color: #00ffff\">                785 </span>│<span style=\"color: #00ff00; text-decoration-color: #00ff00\">        23.82 </span>│<span style=\"color: #ff0000; text-decoration-color: #ff0000\">        76.18 </span>│\n",
       "│<span style=\"color: #ff00ff; text-decoration-color: #ff00ff\"> TOT            </span>│<span style=\"color: #00ffff; text-decoration-color: #00ffff\">               5232 </span>│<span style=\"color: #00ff00; text-decoration-color: #00ff00\">        25.86 </span>│<span style=\"color: #ff0000; text-decoration-color: #ff0000\">        74.14 </span>│\n",
       "└────────────────┴────────────────────┴──────────────┴──────────────┘\n",
       "</pre>\n"
      ],
      "text/plain": [
       "\u001b[3m                      Dataset Split Information                      \u001b[0m\n",
       "┏━━━━━━━━━━━━━━━━┳━━━━━━━━━━━━━━━━━━━━┳━━━━━━━━━━━━━━┳━━━━━━━━━━━━━━┓\n",
       "┃\u001b[1m \u001b[0m\u001b[1mDataset       \u001b[0m\u001b[1m \u001b[0m┃\u001b[1m \u001b[0m\u001b[1mNumero di Immagini\u001b[0m\u001b[1m \u001b[0m┃\u001b[1m \u001b[0m\u001b[1mClasse 0 (%)\u001b[0m\u001b[1m \u001b[0m┃\u001b[1m \u001b[0m\u001b[1mClasse 1 (%)\u001b[0m\u001b[1m \u001b[0m┃\n",
       "┡━━━━━━━━━━━━━━━━╇━━━━━━━━━━━━━━━━━━━━╇━━━━━━━━━━━━━━╇━━━━━━━━━━━━━━┩\n",
       "│\u001b[95m \u001b[0m\u001b[95mTraining Set  \u001b[0m\u001b[95m \u001b[0m│\u001b[96m \u001b[0m\u001b[96m              3662\u001b[0m\u001b[96m \u001b[0m│\u001b[92m \u001b[0m\u001b[92m       25.72\u001b[0m\u001b[92m \u001b[0m│\u001b[91m \u001b[0m\u001b[91m       74.28\u001b[0m\u001b[91m \u001b[0m│\n",
       "│\u001b[95m \u001b[0m\u001b[95mValidation Set\u001b[0m\u001b[95m \u001b[0m│\u001b[96m \u001b[0m\u001b[96m               785\u001b[0m\u001b[96m \u001b[0m│\u001b[92m \u001b[0m\u001b[92m       28.03\u001b[0m\u001b[92m \u001b[0m│\u001b[91m \u001b[0m\u001b[91m       71.97\u001b[0m\u001b[91m \u001b[0m│\n",
       "│\u001b[95m \u001b[0m\u001b[95mTest Set      \u001b[0m\u001b[95m \u001b[0m│\u001b[96m \u001b[0m\u001b[96m               785\u001b[0m\u001b[96m \u001b[0m│\u001b[92m \u001b[0m\u001b[92m       23.82\u001b[0m\u001b[92m \u001b[0m│\u001b[91m \u001b[0m\u001b[91m       76.18\u001b[0m\u001b[91m \u001b[0m│\n",
       "│\u001b[95m \u001b[0m\u001b[95mTOT           \u001b[0m\u001b[95m \u001b[0m│\u001b[96m \u001b[0m\u001b[96m              5232\u001b[0m\u001b[96m \u001b[0m│\u001b[92m \u001b[0m\u001b[92m       25.86\u001b[0m\u001b[92m \u001b[0m│\u001b[91m \u001b[0m\u001b[91m       74.14\u001b[0m\u001b[91m \u001b[0m│\n",
       "└────────────────┴────────────────────┴──────────────┴──────────────┘\n"
      ]
     },
     "metadata": {},
     "output_type": "display_data"
    }
   ],
   "source": [
    "def display_dataset_split_info(images_training, labels_training, images_validation, labels_validation, images_testing, labels_testing):\n",
    "    \"\"\"\n",
    "    Calcola e visualizza le percentuali delle classi 0 e 1 nei set di dati di training, validation e test.\n",
    "    \n",
    "    Args:\n",
    "        images_training: Immagini del set di training.\n",
    "        labels_training: Etichette del set di training.\n",
    "        images_validation: Immagini del set di validation.\n",
    "        labels_validation: Etichette del set di validation.\n",
    "        images_testing: Immagini del set di testing.\n",
    "        labels_testing: Etichette del set di testing.\n",
    "    \"\"\"\n",
    "\n",
    "    # Funzione interna per calcolare le percentuali di classi 0 e 1\n",
    "    def calculate_class_percentages(labels):\n",
    "        class_0_percentage = (labels == 0).mean() * 100\n",
    "        class_1_percentage = (labels == 1).mean() * 100\n",
    "        return class_0_percentage, class_1_percentage\n",
    "\n",
    "    # Calcolo delle percentuali di classi nei vari set\n",
    "    training_class_0, training_class_1 = calculate_class_percentages(labels_training)\n",
    "    validation_class_0, validation_class_1 = calculate_class_percentages(labels_validation)\n",
    "    testing_class_0, testing_class_1 = calculate_class_percentages(labels_testing)\n",
    "\n",
    "    # Preparazione delle righe per la tabella\n",
    "    rows = [\n",
    "        [\"Training Set\", str(images_training.shape[0]), f\"{training_class_0:.2f}\", f\"{training_class_1:.2f}\"],\n",
    "        [\"Validation Set\", str(images_validation.shape[0]), f\"{validation_class_0:.2f}\", f\"{validation_class_1:.2f}\"],\n",
    "        [\"Test Set\", str(images_testing.shape[0]), f\"{testing_class_0:.2f}\", f\"{testing_class_1:.2f}\"],\n",
    "        [\"TOT\", str(images_training.shape[0] + images_validation.shape[0] + images_testing.shape[0]), \n",
    "         f\"{(training_class_0 + validation_class_0 + testing_class_0) / 3:.2f}\", \n",
    "         f\"{(training_class_1 + validation_class_1 + testing_class_1) / 3:.2f}\"]\n",
    "    ]\n",
    "\n",
    "    # Definizione delle colonne della tabella\n",
    "    columns = [\n",
    "        {'header': 'Dataset', 'justify': 'left', 'style': 'bright_magenta'},\n",
    "        {'header': 'Numero di Immagini', 'justify': 'right', 'style': 'bright_cyan'},\n",
    "        {'header': 'Classe 0 (%)', 'justify': 'right', 'style': 'bright_green'},\n",
    "        {'header': 'Classe 1 (%)', 'justify': 'right', 'style': 'bright_red'}\n",
    "    ]\n",
    "\n",
    "    # Creazione e visualizzazione della tabella usando l'utility\n",
    "    create_rich_table(\"Dataset Split Information\", columns, rows)\n",
    "\n",
    "    \n",
    "display_dataset_split_info(images_training, labels_training, images_validation, labels_validation, images_testing, labels_testing)\n"
   ]
  },
  {
   "cell_type": "markdown",
   "metadata": {},
   "source": [
    "# Implementazione dei Modelli\n",
    "\n",
    "Ora procederemo con l'implementazione di diversi modelli di machine learning per affrontare il problema della classificazione muovendoci dai più semplici a quelli più sofisticati per poi metterli a confronto."
   ]
  },
  {
   "cell_type": "markdown",
   "metadata": {},
   "source": [
    "## Implementazione dei Modelli di base - KNearestNeighbours"
   ]
  },
  {
   "cell_type": "code",
   "execution_count": 21,
   "metadata": {},
   "outputs": [
    {
     "data": {
      "text/html": [
       "<pre style=\"white-space:pre;overflow-x:auto;line-height:normal;font-family:Menlo,'DejaVu Sans Mono',consolas,'Courier New',monospace\"><span style=\"color: #00ff00; text-decoration-color: #00ff00; font-weight: bold\">KNN MODEL TRAINED SUCCESSFULLY!</span>\n",
       "</pre>\n"
      ],
      "text/plain": [
       "\u001b[1;92mKNN MODEL TRAINED SUCCESSFULLY!\u001b[0m\n"
      ]
     },
     "metadata": {},
     "output_type": "display_data"
    }
   ],
   "source": [
    "model_name = \"KNN\"\n",
    "\n",
    "# Definizione dell'intervallo di iperparametri da esplorare\n",
    "param_dist = {\n",
    "    'n_neighbors': np.arange(1, 31),  # Numero di vicini da usare\n",
    "    'weights': ['uniform', 'distance'],  # Funzione di peso usata per la previsione\n",
    "    'metric': ['euclidean', 'manhattan', 'minkowski', 'chebyshev'],  # Metrica di distanza\n",
    "    'p': [1, 2, 3],  # Parametro di potenza per la metrica Minkowski\n",
    "    'algorithm': ['auto', 'ball_tree', 'kd_tree', 'brute'],  # Algoritmo usato per trovare i vicini\n",
    "}\n",
    "\n",
    "# Inizializzazione del modello KNN\n",
    "knn_model = KNeighborsClassifier()\n",
    "\n",
    "# Configurazione di RandomizedSearchCV con cross-validation a 5 fold\n",
    "random_search = RandomizedSearchCV(\n",
    "    estimator=knn_model,\n",
    "    param_distributions=param_dist,\n",
    "    n_iter=30,  # Numero di configurazioni di parametri campionate\n",
    "    cv=5,  # Cross-validation a 5 fold\n",
    "    scoring='accuracy',\n",
    "    n_jobs=-1,\n",
    "    random_state=42\n",
    ")\n",
    "\n",
    "# Esecuzione della ricerca randomizzata sui dati di training\n",
    "random_search.fit(images_training_flat, labels_training.ravel())\n",
    "\n",
    "printSuccess(\"KNN MODEL TRAINED SUCCESSFULLY!\")"
   ]
  },
  {
   "cell_type": "code",
   "execution_count": 22,
   "metadata": {},
   "outputs": [
    {
     "data": {
      "text/html": [
       "<pre style=\"white-space:pre;overflow-x:auto;line-height:normal;font-family:Menlo,'DejaVu Sans Mono',consolas,'Courier New',monospace\"><span style=\"font-style: italic\"> Best Hyperparameters for KNN </span>\n",
       "┏━━━━━━━━━━━━━━━━┳━━━━━━━━━━━┓\n",
       "┃<span style=\"font-weight: bold\"> Hyperparameter </span>┃<span style=\"font-weight: bold\">   Value   </span>┃\n",
       "┡━━━━━━━━━━━━━━━━╇━━━━━━━━━━━┩\n",
       "│<span style=\"color: #00ffff; text-decoration-color: #00ffff\"> weights        </span>│<span style=\"color: #ff00ff; text-decoration-color: #ff00ff\"> distance  </span>│\n",
       "│<span style=\"color: #00ffff; text-decoration-color: #00ffff\"> p              </span>│<span style=\"color: #ff00ff; text-decoration-color: #ff00ff\">     2     </span>│\n",
       "│<span style=\"color: #00ffff; text-decoration-color: #00ffff\"> n_neighbors    </span>│<span style=\"color: #ff00ff; text-decoration-color: #ff00ff\">     8     </span>│\n",
       "│<span style=\"color: #00ffff; text-decoration-color: #00ffff\"> metric         </span>│<span style=\"color: #ff00ff; text-decoration-color: #ff00ff\"> manhattan </span>│\n",
       "│<span style=\"color: #00ffff; text-decoration-color: #00ffff\"> algorithm      </span>│<span style=\"color: #ff00ff; text-decoration-color: #ff00ff\"> ball_tree </span>│\n",
       "└────────────────┴───────────┘\n",
       "</pre>\n"
      ],
      "text/plain": [
       "\u001b[3m Best Hyperparameters for KNN \u001b[0m\n",
       "┏━━━━━━━━━━━━━━━━┳━━━━━━━━━━━┓\n",
       "┃\u001b[1m \u001b[0m\u001b[1mHyperparameter\u001b[0m\u001b[1m \u001b[0m┃\u001b[1m \u001b[0m\u001b[1m  Value  \u001b[0m\u001b[1m \u001b[0m┃\n",
       "┡━━━━━━━━━━━━━━━━╇━━━━━━━━━━━┩\n",
       "│\u001b[96m \u001b[0m\u001b[96mweights       \u001b[0m\u001b[96m \u001b[0m│\u001b[95m \u001b[0m\u001b[95mdistance \u001b[0m\u001b[95m \u001b[0m│\n",
       "│\u001b[96m \u001b[0m\u001b[96mp             \u001b[0m\u001b[96m \u001b[0m│\u001b[95m \u001b[0m\u001b[95m    2    \u001b[0m\u001b[95m \u001b[0m│\n",
       "│\u001b[96m \u001b[0m\u001b[96mn_neighbors   \u001b[0m\u001b[96m \u001b[0m│\u001b[95m \u001b[0m\u001b[95m    8    \u001b[0m\u001b[95m \u001b[0m│\n",
       "│\u001b[96m \u001b[0m\u001b[96mmetric        \u001b[0m\u001b[96m \u001b[0m│\u001b[95m \u001b[0m\u001b[95mmanhattan\u001b[0m\u001b[95m \u001b[0m│\n",
       "│\u001b[96m \u001b[0m\u001b[96malgorithm     \u001b[0m\u001b[96m \u001b[0m│\u001b[95m \u001b[0m\u001b[95mball_tree\u001b[0m\u001b[95m \u001b[0m│\n",
       "└────────────────┴───────────┘\n"
      ]
     },
     "metadata": {},
     "output_type": "display_data"
    }
   ],
   "source": [
    "# Estrazione dei migliori iperparametri\n",
    "best_params = random_search.best_params_\n",
    "\n",
    "# Stampa dei migliori iperparametri in una tabella formattata\n",
    "print_best_params_table(model_name, best_params)"
   ]
  },
  {
   "cell_type": "code",
   "execution_count": 23,
   "metadata": {},
   "outputs": [],
   "source": [
    "# Addestramento del modello con tutti i dati di addestramento (training + validation)\n",
    "final_model = KNeighborsClassifier(**best_params)\n",
    "final_model.fit(images_train_val_flat, labels_train_val.ravel())\n",
    "\n",
    "# 5. Valutazione e salvataggio dei risultati sul test set\n",
    "evaluate_and_save_model(model_name, final_model, images_testing_flat, labels_testing)"
   ]
  },
  {
   "cell_type": "markdown",
   "metadata": {},
   "source": [
    "## Implementazione dei Modelli di base - Random Forest"
   ]
  },
  {
   "cell_type": "code",
   "execution_count": null,
   "metadata": {},
   "outputs": [
    {
     "data": {
      "text/html": [
       "<pre style=\"white-space:pre;overflow-x:auto;line-height:normal;font-family:Menlo,'DejaVu Sans Mono',consolas,'Courier New',monospace\"><span style=\"color: #00ff00; text-decoration-color: #00ff00; font-weight: bold\">RANDOM-FOREST MODEL TRAINED SUCCESSFULLY!</span>\n",
       "</pre>\n"
      ],
      "text/plain": [
       "\u001b[1;92mRANDOM-FOREST MODEL TRAINED SUCCESSFULLY!\u001b[0m\n"
      ]
     },
     "metadata": {},
     "output_type": "display_data"
    }
   ],
   "source": [
    "model_name = \"Random Forest\"\n",
    "# Definizione del range di iperparametri da esplorare\n",
    "param_grid = {\n",
    "    'n_estimators': [100, 200, 300],  # Numero di alberi nella foresta\n",
    "    'max_depth': [10, 20, 30, None],  # Profondità massima degli alberi\n",
    "    'min_samples_split': [2, 5, 10],  # Numero minimo di campioni richiesti per dividere un nodo\n",
    "    'min_samples_leaf': [1, 2, 4],  # Numero minimo di campioni che un nodo foglia deve contenere\n",
    "    'max_features': ['sqrt', 'log2'],  # Numero massimo di caratteristiche considerate per la migliore divisione\n",
    "    'bootstrap': [True, False],  # Se usare o meno il bootstrap\n",
    "    'criterion': ['gini', 'entropy'],  # Criterio di divisione\n",
    "    'class_weight': ['balanced', None]  # Pesi delle classi\n",
    "}\n",
    "\n",
    "# Inizializzazione del modello Random Forest\n",
    "rf_model = RandomForestClassifier(random_state=42)\n",
    "\n",
    "# Configurazione della Randomized Search con Cross-Validation (5-fold)\n",
    "random_search = RandomizedSearchCV(estimator=rf_model, param_distributions=param_grid, \n",
    "                                   n_iter=20, cv=5, scoring='accuracy', n_jobs=-1, random_state=42)\n",
    "\n",
    "# Esecuzione della Randomized Search sul set di training\n",
    "random_search.fit(images_training_flat, labels_training.ravel())\n",
    "\n",
    "printSuccess(\"RANDOM-FOREST MODEL TRAINED SUCCESSFULLY!\")"
   ]
  },
  {
   "cell_type": "code",
   "execution_count": null,
   "metadata": {},
   "outputs": [
    {
     "data": {
      "text/html": [
       "<pre style=\"white-space:pre;overflow-x:auto;line-height:normal;font-family:Menlo,'DejaVu Sans Mono',consolas,'Courier New',monospace\"><span style=\"font-style: italic\">Best Hyperparameters for Random </span>\n",
       "<span style=\"font-style: italic\">             Forest             </span>\n",
       "┏━━━━━━━━━━━━━━━━━━━┳━━━━━━━━━━┓\n",
       "┃<span style=\"font-weight: bold\"> Hyperparameter    </span>┃<span style=\"font-weight: bold\">  Value   </span>┃\n",
       "┡━━━━━━━━━━━━━━━━━━━╇━━━━━━━━━━┩\n",
       "│<span style=\"color: #00ffff; text-decoration-color: #00ffff\"> n_estimators      </span>│<span style=\"color: #ff00ff; text-decoration-color: #ff00ff\">   300    </span>│\n",
       "│<span style=\"color: #00ffff; text-decoration-color: #00ffff\"> min_samples_split </span>│<span style=\"color: #ff00ff; text-decoration-color: #ff00ff\">    2     </span>│\n",
       "│<span style=\"color: #00ffff; text-decoration-color: #00ffff\"> min_samples_leaf  </span>│<span style=\"color: #ff00ff; text-decoration-color: #ff00ff\">    1     </span>│\n",
       "│<span style=\"color: #00ffff; text-decoration-color: #00ffff\"> max_features      </span>│<span style=\"color: #ff00ff; text-decoration-color: #ff00ff\">   sqrt   </span>│\n",
       "│<span style=\"color: #00ffff; text-decoration-color: #00ffff\"> max_depth         </span>│<span style=\"color: #ff00ff; text-decoration-color: #ff00ff\">    30    </span>│\n",
       "│<span style=\"color: #00ffff; text-decoration-color: #00ffff\"> criterion         </span>│<span style=\"color: #ff00ff; text-decoration-color: #ff00ff\"> entropy  </span>│\n",
       "│<span style=\"color: #00ffff; text-decoration-color: #00ffff\"> class_weight      </span>│<span style=\"color: #ff00ff; text-decoration-color: #ff00ff\"> balanced </span>│\n",
       "│<span style=\"color: #00ffff; text-decoration-color: #00ffff\"> bootstrap         </span>│<span style=\"color: #ff00ff; text-decoration-color: #ff00ff\">  False   </span>│\n",
       "└───────────────────┴──────────┘\n",
       "</pre>\n"
      ],
      "text/plain": [
       "\u001b[3mBest Hyperparameters for Random \u001b[0m\n",
       "\u001b[3m             Forest             \u001b[0m\n",
       "┏━━━━━━━━━━━━━━━━━━━┳━━━━━━━━━━┓\n",
       "┃\u001b[1m \u001b[0m\u001b[1mHyperparameter   \u001b[0m\u001b[1m \u001b[0m┃\u001b[1m \u001b[0m\u001b[1m Value  \u001b[0m\u001b[1m \u001b[0m┃\n",
       "┡━━━━━━━━━━━━━━━━━━━╇━━━━━━━━━━┩\n",
       "│\u001b[96m \u001b[0m\u001b[96mn_estimators     \u001b[0m\u001b[96m \u001b[0m│\u001b[95m \u001b[0m\u001b[95m  300   \u001b[0m\u001b[95m \u001b[0m│\n",
       "│\u001b[96m \u001b[0m\u001b[96mmin_samples_split\u001b[0m\u001b[96m \u001b[0m│\u001b[95m \u001b[0m\u001b[95m   2    \u001b[0m\u001b[95m \u001b[0m│\n",
       "│\u001b[96m \u001b[0m\u001b[96mmin_samples_leaf \u001b[0m\u001b[96m \u001b[0m│\u001b[95m \u001b[0m\u001b[95m   1    \u001b[0m\u001b[95m \u001b[0m│\n",
       "│\u001b[96m \u001b[0m\u001b[96mmax_features     \u001b[0m\u001b[96m \u001b[0m│\u001b[95m \u001b[0m\u001b[95m  sqrt  \u001b[0m\u001b[95m \u001b[0m│\n",
       "│\u001b[96m \u001b[0m\u001b[96mmax_depth        \u001b[0m\u001b[96m \u001b[0m│\u001b[95m \u001b[0m\u001b[95m   30   \u001b[0m\u001b[95m \u001b[0m│\n",
       "│\u001b[96m \u001b[0m\u001b[96mcriterion        \u001b[0m\u001b[96m \u001b[0m│\u001b[95m \u001b[0m\u001b[95mentropy \u001b[0m\u001b[95m \u001b[0m│\n",
       "│\u001b[96m \u001b[0m\u001b[96mclass_weight     \u001b[0m\u001b[96m \u001b[0m│\u001b[95m \u001b[0m\u001b[95mbalanced\u001b[0m\u001b[95m \u001b[0m│\n",
       "│\u001b[96m \u001b[0m\u001b[96mbootstrap        \u001b[0m\u001b[96m \u001b[0m│\u001b[95m \u001b[0m\u001b[95m False  \u001b[0m\u001b[95m \u001b[0m│\n",
       "└───────────────────┴──────────┘\n"
      ]
     },
     "metadata": {},
     "output_type": "display_data"
    }
   ],
   "source": [
    "\n",
    "# Ottenimento dei migliori iperparametri trovati\n",
    "best_params = random_search.best_params_\n",
    "\n",
    "# Mostra i migliori iperparametri trovati\n",
    "print_best_params_table(model_name, best_params)"
   ]
  },
  {
   "cell_type": "code",
   "execution_count": null,
   "metadata": {},
   "outputs": [
    {
     "data": {
      "text/html": [
       "<pre style=\"white-space:pre;overflow-x:auto;line-height:normal;font-family:Menlo,'DejaVu Sans Mono',consolas,'Courier New',monospace\"><span style=\"font-style: italic\">  Model Evaluation Results for   </span>\n",
       "<span style=\"font-style: italic\">          Random Forest          </span>\n",
       "┏━━━━━━━━━━━━━━━━━━━━━━┳━━━━━━━━┓\n",
       "┃<span style=\"font-weight: bold\"> Metric               </span>┃<span style=\"font-weight: bold\"> Result </span>┃\n",
       "┡━━━━━━━━━━━━━━━━━━━━━━╇━━━━━━━━┩\n",
       "│<span style=\"color: #00ffff; text-decoration-color: #00ffff\"> Accuracy             </span>│<span style=\"color: #00ff00; text-decoration-color: #00ff00\"> 0.9580 </span>│\n",
       "│<span style=\"color: #00ffff; text-decoration-color: #00ffff\"> Precision (wgtd_avg) </span>│<span style=\"color: #00ff00; text-decoration-color: #00ff00\"> 0.9425 </span>│\n",
       "│<span style=\"color: #00ffff; text-decoration-color: #00ffff\"> Recall (wgtd_avg)    </span>│<span style=\"color: #00ff00; text-decoration-color: #00ff00\"> 0.8770 </span>│\n",
       "│<span style=\"color: #00ffff; text-decoration-color: #00ffff\"> F1-Score (wgtd_avg)  </span>│<span style=\"color: #00ff00; text-decoration-color: #00ff00\"> 0.9086 </span>│\n",
       "└──────────────────────┴────────┘\n",
       "</pre>\n"
      ],
      "text/plain": [
       "\u001b[3m  Model Evaluation Results for   \u001b[0m\n",
       "\u001b[3m          Random Forest          \u001b[0m\n",
       "┏━━━━━━━━━━━━━━━━━━━━━━┳━━━━━━━━┓\n",
       "┃\u001b[1m \u001b[0m\u001b[1mMetric              \u001b[0m\u001b[1m \u001b[0m┃\u001b[1m \u001b[0m\u001b[1mResult\u001b[0m\u001b[1m \u001b[0m┃\n",
       "┡━━━━━━━━━━━━━━━━━━━━━━╇━━━━━━━━┩\n",
       "│\u001b[96m \u001b[0m\u001b[96mAccuracy            \u001b[0m\u001b[96m \u001b[0m│\u001b[92m \u001b[0m\u001b[92m0.9580\u001b[0m\u001b[92m \u001b[0m│\n",
       "│\u001b[96m \u001b[0m\u001b[96mPrecision (wgtd_avg)\u001b[0m\u001b[96m \u001b[0m│\u001b[92m \u001b[0m\u001b[92m0.9425\u001b[0m\u001b[92m \u001b[0m│\n",
       "│\u001b[96m \u001b[0m\u001b[96mRecall (wgtd_avg)   \u001b[0m\u001b[96m \u001b[0m│\u001b[92m \u001b[0m\u001b[92m0.8770\u001b[0m\u001b[92m \u001b[0m│\n",
       "│\u001b[96m \u001b[0m\u001b[96mF1-Score (wgtd_avg) \u001b[0m\u001b[96m \u001b[0m│\u001b[92m \u001b[0m\u001b[92m0.9086\u001b[0m\u001b[92m \u001b[0m│\n",
       "└──────────────────────┴────────┘\n"
      ]
     },
     "metadata": {},
     "output_type": "display_data"
    }
   ],
   "source": [
    "# 5. Addestramento del modello con tutti i dati di addestramento (training + validation)\n",
    "final_model = RandomForestClassifier(**best_params, random_state=42)\n",
    "final_model.fit(images_train_val_flat, labels_train_val.ravel())\n",
    "\n",
    "# 6. Valutazione e salvataggio dei risultati sul test set\n",
    "evaluate_and_save_model(model_name, final_model, images_testing_flat, labels_testing)"
   ]
  },
  {
   "cell_type": "markdown",
   "metadata": {},
   "source": [
    "## Implementazione dei Modelli di base - Regressione Logistica"
   ]
  },
  {
   "cell_type": "code",
   "execution_count": null,
   "metadata": {},
   "outputs": [
    {
     "name": "stderr",
     "output_type": "stream",
     "text": [
      "/home/edoman000/.local/lib/python3.10/site-packages/sklearn/linear_model/_sag.py:349: ConvergenceWarning: The max_iter was reached which means the coef_ did not converge\n",
      "  warnings.warn(\n",
      "/home/edoman000/.local/lib/python3.10/site-packages/sklearn/linear_model/_sag.py:349: ConvergenceWarning: The max_iter was reached which means the coef_ did not converge\n",
      "  warnings.warn(\n",
      "/home/edoman000/.local/lib/python3.10/site-packages/sklearn/linear_model/_sag.py:349: ConvergenceWarning: The max_iter was reached which means the coef_ did not converge\n",
      "  warnings.warn(\n",
      "/home/edoman000/.local/lib/python3.10/site-packages/sklearn/linear_model/_sag.py:349: ConvergenceWarning: The max_iter was reached which means the coef_ did not converge\n",
      "  warnings.warn(\n",
      "/home/edoman000/.local/lib/python3.10/site-packages/sklearn/linear_model/_sag.py:349: ConvergenceWarning: The max_iter was reached which means the coef_ did not converge\n",
      "  warnings.warn(\n",
      "/home/edoman000/.local/lib/python3.10/site-packages/sklearn/linear_model/_sag.py:349: ConvergenceWarning: The max_iter was reached which means the coef_ did not converge\n",
      "  warnings.warn(\n",
      "/home/edoman000/.local/lib/python3.10/site-packages/sklearn/linear_model/_sag.py:349: ConvergenceWarning: The max_iter was reached which means the coef_ did not converge\n",
      "  warnings.warn(\n",
      "/home/edoman000/.local/lib/python3.10/site-packages/sklearn/linear_model/_sag.py:349: ConvergenceWarning: The max_iter was reached which means the coef_ did not converge\n",
      "  warnings.warn(\n",
      "/home/edoman000/.local/lib/python3.10/site-packages/sklearn/linear_model/_sag.py:349: ConvergenceWarning: The max_iter was reached which means the coef_ did not converge\n",
      "  warnings.warn(\n",
      "/home/edoman000/.local/lib/python3.10/site-packages/sklearn/linear_model/_sag.py:349: ConvergenceWarning: The max_iter was reached which means the coef_ did not converge\n",
      "  warnings.warn(\n"
     ]
    },
    {
     "data": {
      "text/html": [
       "<pre style=\"white-space:pre;overflow-x:auto;line-height:normal;font-family:Menlo,'DejaVu Sans Mono',consolas,'Courier New',monospace\"><span style=\"color: #00ff00; text-decoration-color: #00ff00; font-weight: bold\">LOGISTIC-REGRESSION MODEL TRAINED SUCCESSFULLY!</span>\n",
       "</pre>\n"
      ],
      "text/plain": [
       "\u001b[1;92mLOGISTIC-REGRESSION MODEL TRAINED SUCCESSFULLY!\u001b[0m\n"
      ]
     },
     "metadata": {},
     "output_type": "display_data"
    }
   ],
   "source": [
    "model_name = \"Logistic Regression\"\n",
    "\n",
    "# Definizione del range di iperparametri da esplorare, con filtro delle combinazioni non valide\n",
    "param_dist = {\n",
    "    'penalty': ['l1', 'l2', 'elasticnet'],\n",
    "    'C': uniform(0.01, 10),\n",
    "    'fit_intercept': [True, False],\n",
    "    'class_weight': ['balanced', None],\n",
    "    'solver': ['saga', 'liblinear', 'newton-cg', 'lbfgs', 'sag', 'newton-cholesky'], \n",
    "    'warm_start': [True, False]\n",
    "}\n",
    "\n",
    "# Inizializzazione del modello Logistic Regression\n",
    "logreg_model = LogisticRegression(random_state=42)\n",
    "\n",
    "# Configurazione di RandomizedSearchCV con cross-validation a 5 fold\n",
    "random_search = RandomizedSearchCV(\n",
    "    estimator=logreg_model,\n",
    "    param_distributions=param_dist,  # Utilizzo diretto di param_dist\n",
    "    n_iter=30,  # Numero di configurazioni di parametri campionate\n",
    "    cv=5,  # Cross-validation a 5 fold\n",
    "    scoring='accuracy',\n",
    "    n_jobs=-1,\n",
    "    random_state=42\n",
    ")\n",
    "\n",
    "# Esecuzione della ricerca randomizzata sui dati di training\n",
    "random_search.fit(images_training_flat, labels_training.ravel())\n",
    "\n",
    "printSuccess(\"LOGISTIC-REGRESSION MODEL TRAINED SUCCESSFULLY!\")"
   ]
  },
  {
   "cell_type": "code",
   "execution_count": null,
   "metadata": {},
   "outputs": [
    {
     "data": {
      "text/html": [
       "<pre style=\"white-space:pre;overflow-x:auto;line-height:normal;font-family:Menlo,'DejaVu Sans Mono',consolas,'Courier New',monospace\"><span style=\"font-style: italic\">   Best Hyperparameters for Logistic   </span>\n",
       "<span style=\"font-style: italic\">              Regression               </span>\n",
       "┏━━━━━━━━━━━━━━━━┳━━━━━━━━━━━━━━━━━━━━┓\n",
       "┃<span style=\"font-weight: bold\"> Hyperparameter </span>┃<span style=\"font-weight: bold\">       Value        </span>┃\n",
       "┡━━━━━━━━━━━━━━━━╇━━━━━━━━━━━━━━━━━━━━┩\n",
       "│<span style=\"color: #00ffff; text-decoration-color: #00ffff\"> C              </span>│<span style=\"color: #ff00ff; text-decoration-color: #ff00ff\"> 2.9314464853521813 </span>│\n",
       "│<span style=\"color: #00ffff; text-decoration-color: #00ffff\"> class_weight   </span>│<span style=\"color: #ff00ff; text-decoration-color: #ff00ff\">        None        </span>│\n",
       "│<span style=\"color: #00ffff; text-decoration-color: #00ffff\"> fit_intercept  </span>│<span style=\"color: #ff00ff; text-decoration-color: #ff00ff\">        True        </span>│\n",
       "│<span style=\"color: #00ffff; text-decoration-color: #00ffff\"> penalty        </span>│<span style=\"color: #ff00ff; text-decoration-color: #ff00ff\">         l2         </span>│\n",
       "│<span style=\"color: #00ffff; text-decoration-color: #00ffff\"> solver         </span>│<span style=\"color: #ff00ff; text-decoration-color: #ff00ff\">  newton-cholesky   </span>│\n",
       "│<span style=\"color: #00ffff; text-decoration-color: #00ffff\"> warm_start     </span>│<span style=\"color: #ff00ff; text-decoration-color: #ff00ff\">        True        </span>│\n",
       "└────────────────┴────────────────────┘\n",
       "</pre>\n"
      ],
      "text/plain": [
       "\u001b[3m   Best Hyperparameters for Logistic   \u001b[0m\n",
       "\u001b[3m              Regression               \u001b[0m\n",
       "┏━━━━━━━━━━━━━━━━┳━━━━━━━━━━━━━━━━━━━━┓\n",
       "┃\u001b[1m \u001b[0m\u001b[1mHyperparameter\u001b[0m\u001b[1m \u001b[0m┃\u001b[1m \u001b[0m\u001b[1m      Value       \u001b[0m\u001b[1m \u001b[0m┃\n",
       "┡━━━━━━━━━━━━━━━━╇━━━━━━━━━━━━━━━━━━━━┩\n",
       "│\u001b[96m \u001b[0m\u001b[96mC             \u001b[0m\u001b[96m \u001b[0m│\u001b[95m \u001b[0m\u001b[95m2.9314464853521813\u001b[0m\u001b[95m \u001b[0m│\n",
       "│\u001b[96m \u001b[0m\u001b[96mclass_weight  \u001b[0m\u001b[96m \u001b[0m│\u001b[95m \u001b[0m\u001b[95m       None       \u001b[0m\u001b[95m \u001b[0m│\n",
       "│\u001b[96m \u001b[0m\u001b[96mfit_intercept \u001b[0m\u001b[96m \u001b[0m│\u001b[95m \u001b[0m\u001b[95m       True       \u001b[0m\u001b[95m \u001b[0m│\n",
       "│\u001b[96m \u001b[0m\u001b[96mpenalty       \u001b[0m\u001b[96m \u001b[0m│\u001b[95m \u001b[0m\u001b[95m        l2        \u001b[0m\u001b[95m \u001b[0m│\n",
       "│\u001b[96m \u001b[0m\u001b[96msolver        \u001b[0m\u001b[96m \u001b[0m│\u001b[95m \u001b[0m\u001b[95m newton-cholesky  \u001b[0m\u001b[95m \u001b[0m│\n",
       "│\u001b[96m \u001b[0m\u001b[96mwarm_start    \u001b[0m\u001b[96m \u001b[0m│\u001b[95m \u001b[0m\u001b[95m       True       \u001b[0m\u001b[95m \u001b[0m│\n",
       "└────────────────┴────────────────────┘\n"
      ]
     },
     "metadata": {},
     "output_type": "display_data"
    }
   ],
   "source": [
    "# Estrazione dei migliori iperparametri\n",
    "best_params = random_search.best_params_\n",
    "\n",
    "# Stampa dei migliori iperparametri in una tabella formattata\n",
    "print_best_params_table(model_name, best_params)"
   ]
  },
  {
   "cell_type": "code",
   "execution_count": null,
   "metadata": {},
   "outputs": [
    {
     "data": {
      "text/html": [
       "<pre style=\"white-space:pre;overflow-x:auto;line-height:normal;font-family:Menlo,'DejaVu Sans Mono',consolas,'Courier New',monospace\"><span style=\"font-style: italic\">  Model Evaluation Results for   </span>\n",
       "<span style=\"font-style: italic\">       Logistic Regression       </span>\n",
       "┏━━━━━━━━━━━━━━━━━━━━━━┳━━━━━━━━┓\n",
       "┃<span style=\"font-weight: bold\"> Metric               </span>┃<span style=\"font-weight: bold\"> Result </span>┃\n",
       "┡━━━━━━━━━━━━━━━━━━━━━━╇━━━━━━━━┩\n",
       "│<span style=\"color: #00ffff; text-decoration-color: #00ffff\"> Accuracy             </span>│<span style=\"color: #00ff00; text-decoration-color: #00ff00\"> 0.9656 </span>│\n",
       "│<span style=\"color: #00ffff; text-decoration-color: #00ffff\"> Precision (wgtd_avg) </span>│<span style=\"color: #00ff00; text-decoration-color: #00ff00\"> 0.9494 </span>│\n",
       "│<span style=\"color: #00ffff; text-decoration-color: #00ffff\"> Recall (wgtd_avg)    </span>│<span style=\"color: #00ff00; text-decoration-color: #00ff00\"> 0.9037 </span>│\n",
       "│<span style=\"color: #00ffff; text-decoration-color: #00ffff\"> F1-Score (wgtd_avg)  </span>│<span style=\"color: #00ff00; text-decoration-color: #00ff00\"> 0.9260 </span>│\n",
       "└──────────────────────┴────────┘\n",
       "</pre>\n"
      ],
      "text/plain": [
       "\u001b[3m  Model Evaluation Results for   \u001b[0m\n",
       "\u001b[3m       Logistic Regression       \u001b[0m\n",
       "┏━━━━━━━━━━━━━━━━━━━━━━┳━━━━━━━━┓\n",
       "┃\u001b[1m \u001b[0m\u001b[1mMetric              \u001b[0m\u001b[1m \u001b[0m┃\u001b[1m \u001b[0m\u001b[1mResult\u001b[0m\u001b[1m \u001b[0m┃\n",
       "┡━━━━━━━━━━━━━━━━━━━━━━╇━━━━━━━━┩\n",
       "│\u001b[96m \u001b[0m\u001b[96mAccuracy            \u001b[0m\u001b[96m \u001b[0m│\u001b[92m \u001b[0m\u001b[92m0.9656\u001b[0m\u001b[92m \u001b[0m│\n",
       "│\u001b[96m \u001b[0m\u001b[96mPrecision (wgtd_avg)\u001b[0m\u001b[96m \u001b[0m│\u001b[92m \u001b[0m\u001b[92m0.9494\u001b[0m\u001b[92m \u001b[0m│\n",
       "│\u001b[96m \u001b[0m\u001b[96mRecall (wgtd_avg)   \u001b[0m\u001b[96m \u001b[0m│\u001b[92m \u001b[0m\u001b[92m0.9037\u001b[0m\u001b[92m \u001b[0m│\n",
       "│\u001b[96m \u001b[0m\u001b[96mF1-Score (wgtd_avg) \u001b[0m\u001b[96m \u001b[0m│\u001b[92m \u001b[0m\u001b[92m0.9260\u001b[0m\u001b[92m \u001b[0m│\n",
       "└──────────────────────┴────────┘\n"
      ]
     },
     "metadata": {},
     "output_type": "display_data"
    }
   ],
   "source": [
    "# 5. Addestramento del modello con tutti i dati di addestramento (training + validation)\n",
    "final_model = LogisticRegression(**best_params, random_state=42)\n",
    "final_model.fit(images_train_val_flat, labels_train_val.ravel())\n",
    "\n",
    "# 6. Valutazione e salvataggio dei risultati sul test set\n",
    "evaluate_and_save_model(model_name, final_model, images_testing_flat, labels_testing)"
   ]
  },
  {
   "cell_type": "markdown",
   "metadata": {},
   "source": [
    "## Implementazione del Modello Intermedio - LeNet\n"
   ]
  },
  {
   "cell_type": "code",
   "execution_count": null,
   "metadata": {},
   "outputs": [
    {
     "ename": "NameError",
     "evalue": "name 'tf' is not defined",
     "output_type": "error",
     "traceback": [
      "\u001b[0;31m---------------------------------------------------------------------------\u001b[0m",
      "\u001b[0;31mNameError\u001b[0m                                 Traceback (most recent call last)",
      "\u001b[0;32m/tmp/ipykernel_1411026/2373074305.py\u001b[0m in \u001b[0;36m<module>\u001b[0;34m\u001b[0m\n\u001b[1;32m      2\u001b[0m \u001b[0;34m\u001b[0m\u001b[0m\n\u001b[1;32m      3\u001b[0m \u001b[0;31m# Definizione modello LeNet\u001b[0m\u001b[0;34m\u001b[0m\u001b[0;34m\u001b[0m\u001b[0m\n\u001b[0;32m----> 4\u001b[0;31m lenet = tf.keras.models.Sequential([\n\u001b[0m\u001b[1;32m      5\u001b[0m             \u001b[0mtf\u001b[0m\u001b[0;34m.\u001b[0m\u001b[0mkeras\u001b[0m\u001b[0;34m.\u001b[0m\u001b[0mlayers\u001b[0m\u001b[0;34m.\u001b[0m\u001b[0mConv2D\u001b[0m\u001b[0;34m(\u001b[0m\u001b[0mfilters\u001b[0m\u001b[0;34m=\u001b[0m\u001b[0;36m6\u001b[0m\u001b[0;34m,\u001b[0m \u001b[0mkernel_size\u001b[0m\u001b[0;34m=\u001b[0m\u001b[0;36m5\u001b[0m\u001b[0;34m,\u001b[0m \u001b[0mactivation\u001b[0m\u001b[0;34m=\u001b[0m\u001b[0;34m'relu'\u001b[0m\u001b[0;34m,\u001b[0m \u001b[0mpadding\u001b[0m\u001b[0;34m=\u001b[0m\u001b[0;34m'same'\u001b[0m\u001b[0;34m,\u001b[0m \u001b[0minput_shape\u001b[0m\u001b[0;34m=\u001b[0m\u001b[0;34m(\u001b[0m\u001b[0;36m28\u001b[0m\u001b[0;34m,\u001b[0m \u001b[0;36m28\u001b[0m\u001b[0;34m,\u001b[0m \u001b[0;36m1\u001b[0m\u001b[0;34m)\u001b[0m\u001b[0;34m)\u001b[0m\u001b[0;34m,\u001b[0m\u001b[0;34m\u001b[0m\u001b[0;34m\u001b[0m\u001b[0m\n\u001b[1;32m      6\u001b[0m             \u001b[0mtf\u001b[0m\u001b[0;34m.\u001b[0m\u001b[0mkeras\u001b[0m\u001b[0;34m.\u001b[0m\u001b[0mlayers\u001b[0m\u001b[0;34m.\u001b[0m\u001b[0mAveragePooling2D\u001b[0m\u001b[0;34m(\u001b[0m\u001b[0mpool_size\u001b[0m\u001b[0;34m=\u001b[0m\u001b[0;36m2\u001b[0m\u001b[0;34m,\u001b[0m \u001b[0mstrides\u001b[0m\u001b[0;34m=\u001b[0m\u001b[0;36m2\u001b[0m\u001b[0;34m)\u001b[0m\u001b[0;34m,\u001b[0m\u001b[0;34m\u001b[0m\u001b[0;34m\u001b[0m\u001b[0m\n",
      "\u001b[0;31mNameError\u001b[0m: name 'tf' is not defined"
     ]
    }
   ],
   "source": [
    "model_name = \"LeNet\"\n",
    "\n",
    "# Definizione modello LeNet\n",
    "lenet = tf.keras.models.Sequential([\n",
    "            tf.keras.layers.Conv2D(filters=6, kernel_size=5, activation='relu', padding='same', input_shape=(28, 28, 1)),\n",
    "            tf.keras.layers.AveragePooling2D(pool_size=2, strides=2),\n",
    "            tf.keras.layers.Conv2D(filters=16, kernel_size=5,activation='relu'),\n",
    "            tf.keras.layers.AveragePooling2D(pool_size=2, strides=2),\n",
    "            tf.keras.layers.Flatten(),\n",
    "            tf.keras.layers.Dense(120, activation='relu'),\n",
    "            tf.keras.layers.Dense(84, activation='relu'),\n",
    "            tf.keras.layers.Dense(1, activation=\"softmax\")]) \n",
    "\n",
    "\n",
    "lenet.compile(loss=\"sparse_categorical_crossentropy\",\n",
    "              optimizer=\"adam\",\n",
    "              metrics=[\"accuracy\"])\n",
    "\n",
    "lenet.summary()\n",
    "\n",
    "historyL = lenet.fit(images_training_cnn, labels_training, epochs=1000,\n",
    "                    validation_data=(images_validation_cnn, labels_validation), batch_size = 256,\n",
    "                   callbacks=[tf.keras.callbacks.EarlyStopping(patience=10)])\n",
    "\n",
    "printSuccess(\"LENET MODEL TRAINED SUCCESSFULLY!\")"
   ]
  },
  {
   "cell_type": "code",
   "execution_count": null,
   "metadata": {},
   "outputs": [
    {
     "name": "stdout",
     "output_type": "stream",
     "text": [
      "\u001b[1m25/25\u001b[0m \u001b[32m━━━━━━━━━━━━━━━━━━━━\u001b[0m\u001b[37m\u001b[0m \u001b[1m0s\u001b[0m 2ms/step\n",
      "{'0': {'precision': 0.0, 'recall': 0.0, 'f1-score': 0.0, 'support': 187.0}, '1': {'precision': 0.7617834394904459, 'recall': 1.0, 'f1-score': 0.8647866955892987, 'support': 598.0}, 'accuracy': 0.7617834394904459, 'macro avg': {'precision': 0.38089171974522296, 'recall': 0.5, 'f1-score': 0.43239334779464933, 'support': 785.0}, 'weighted avg': {'precision': 0.5803140086818939, 'recall': 0.7617834394904459, 'f1-score': 0.6587801833915932, 'support': 785.0}}\n"
     ]
    },
    {
     "data": {
      "text/html": [
       "<pre style=\"white-space:pre;overflow-x:auto;line-height:normal;font-family:Menlo,'DejaVu Sans Mono',consolas,'Courier New',monospace\"><span style=\"font-style: italic\">  Model Evaluation Results for   </span>\n",
       "<span style=\"font-style: italic\">              LeNet              </span>\n",
       "┏━━━━━━━━━━━━━━━━━━━━━━┳━━━━━━━━┓\n",
       "┃<span style=\"font-weight: bold\"> Metric               </span>┃<span style=\"font-weight: bold\"> Result </span>┃\n",
       "┡━━━━━━━━━━━━━━━━━━━━━━╇━━━━━━━━┩\n",
       "│<span style=\"color: #00ffff; text-decoration-color: #00ffff\"> Accuracy             </span>│<span style=\"color: #00ff00; text-decoration-color: #00ff00\"> 0.7618 </span>│\n",
       "│<span style=\"color: #00ffff; text-decoration-color: #00ffff\"> Precision (wgtd_avg) </span>│<span style=\"color: #00ff00; text-decoration-color: #00ff00\"> 0.5803 </span>│\n",
       "│<span style=\"color: #00ffff; text-decoration-color: #00ffff\"> Recall (wgtd_avg)    </span>│<span style=\"color: #00ff00; text-decoration-color: #00ff00\"> 0.7618 </span>│\n",
       "│<span style=\"color: #00ffff; text-decoration-color: #00ffff\"> F1-Score (wgtd_avg)  </span>│<span style=\"color: #00ff00; text-decoration-color: #00ff00\"> 0.6588 </span>│\n",
       "└──────────────────────┴────────┘\n",
       "</pre>\n"
      ],
      "text/plain": [
       "\u001b[3m  Model Evaluation Results for   \u001b[0m\n",
       "\u001b[3m              LeNet              \u001b[0m\n",
       "┏━━━━━━━━━━━━━━━━━━━━━━┳━━━━━━━━┓\n",
       "┃\u001b[1m \u001b[0m\u001b[1mMetric              \u001b[0m\u001b[1m \u001b[0m┃\u001b[1m \u001b[0m\u001b[1mResult\u001b[0m\u001b[1m \u001b[0m┃\n",
       "┡━━━━━━━━━━━━━━━━━━━━━━╇━━━━━━━━┩\n",
       "│\u001b[96m \u001b[0m\u001b[96mAccuracy            \u001b[0m\u001b[96m \u001b[0m│\u001b[92m \u001b[0m\u001b[92m0.7618\u001b[0m\u001b[92m \u001b[0m│\n",
       "│\u001b[96m \u001b[0m\u001b[96mPrecision (wgtd_avg)\u001b[0m\u001b[96m \u001b[0m│\u001b[92m \u001b[0m\u001b[92m0.5803\u001b[0m\u001b[92m \u001b[0m│\n",
       "│\u001b[96m \u001b[0m\u001b[96mRecall (wgtd_avg)   \u001b[0m\u001b[96m \u001b[0m│\u001b[92m \u001b[0m\u001b[92m0.7618\u001b[0m\u001b[92m \u001b[0m│\n",
       "│\u001b[96m \u001b[0m\u001b[96mF1-Score (wgtd_avg) \u001b[0m\u001b[96m \u001b[0m│\u001b[92m \u001b[0m\u001b[92m0.6588\u001b[0m\u001b[92m \u001b[0m│\n",
       "└──────────────────────┴────────┘\n"
      ]
     },
     "metadata": {},
     "output_type": "display_data"
    }
   ],
   "source": [
    "# Valutazione del modello LeNet sul test set\n",
    "evaluate_and_save_model(model_name, lenet, images_testing, labels_testing)"
   ]
  },
  {
   "cell_type": "markdown",
   "metadata": {},
   "source": [
    "# Confronto modelli di base"
   ]
  },
  {
   "cell_type": "code",
   "execution_count": null,
   "metadata": {},
   "outputs": [
    {
     "data": {
      "image/png": "[encoded data removed]",
      "text/plain": [
       "<Figure size 1440x864 with 4 Axes>"
      ]
     },
     "metadata": {},
     "output_type": "display_data"
    }
   ],
   "source": [
    "plot_global_comparison((0.9, 0.97))"
   ]
  },
  {
   "cell_type": "code",
   "execution_count": null,
   "metadata": {},
   "outputs": [],
   "source": []
  }
 ],
 "metadata": {
  "kernelspec": {
   "display_name": "Python 3",
   "language": "python",
   "name": "python3"
  },
  "language_info": {
   "codemirror_mode": {
    "name": "ipython",
    "version": 3
   },
   "file_extension": ".py",
   "mimetype": "text/x-python",
   "name": "python",
   "nbconvert_exporter": "python",
   "pygments_lexer": "ipython3",
   "version": "3.10.12"
  }
 },
 "nbformat": 4,
 "nbformat_minor": 2
}
