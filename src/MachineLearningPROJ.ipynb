{
 "cells": [
  {
   "cell_type": "markdown",
   "metadata": {},
   "source": [
    "# Machine Learning Project - Riconoscimento di Immagini MNIST-like\n",
    "\n",
    "## Indice\n",
    "\n",
    "1. [Introduzione](#introduzione)\n",
    "2. [Visualizzazione delle Immagini del Dataset](#visualizzazione-delle-immagini-del-dataset)\n",
    "3. [Preparazione dei Dati](#preparazione-dei-dati)\n",
    "4. [Implementazione dei Modelli di Base](#implementazione-dei-modelli-di-base)\n",
    "   - [K-Nearest Neighbors (KNN)](#k-nearest-neighbors-knn)\n",
    "   - [Random Forest (RF)](#random-forest-rf)\n",
    "   - [Logistic Regression (LR)](#logistic-regression-lr)\n",
    "5. [Costruzione del Modello MPL](#costruzione-del-modello-mpl)\n",
    "6. [Costruzione del Modello MYLeNet](#costruzione-del-modello-mylenet)\n",
    "7. [Visualizzazione delle Attivazioni nelle CNN](#visualizzazione-delle-attivazioni-nelle-cnn)\n",
    "8. [Considerazioni sulle Tecniche Avanzate](#considerazioni-sulle-tecniche-avanzate)\n",
    "9. [Confronto Finale delle Performance](#confronto-finale-delle-performance)"
   ]
  },
  {
   "cell_type": "code",
   "execution_count": null,
   "metadata": {},
   "outputs": [],
   "source": [
    "%%capture\n",
    "\n",
    "import os\n",
    "import logging\n",
    "import math\n",
    "import shutil\n",
    "import random\n",
    "import warnings\n",
    "import numpy as np\n",
    "import pandas as pd\n",
    "import matplotlib.pyplot as plt\n",
    "import seaborn as sns\n",
    "import tensorflow as tf\n",
    "import tensorflow as tf\n",
    "from tensorflow import keras\n",
    "from keras_tuner import RandomSearch\n",
    "from keras import layers, models\n",
    "from keras.utils import plot_model\n",
    "from sklearn.model_selection import train_test_split, RandomizedSearchCV\n",
    "from sklearn.neighbors import KNeighborsClassifier\n",
    "from sklearn.ensemble import RandomForestClassifier\n",
    "from sklearn.linear_model import LogisticRegression\n",
    "from sklearn.metrics import classification_report, accuracy_score\n",
    "from scipy.stats import uniform\n",
    "from rich.console import Console\n",
    "from rich.table import Table\n",
    "from rich.text import Text\n",
    "\n",
    "# Ignora i warning\n",
    "warnings.filterwarnings(\"ignore\")\n",
    "\n",
    "os.environ['TF_CPP_MIN_LOG_LEVEL'] = '3'  # Questo rimuove i log informativi e warnings di TensorFlow\n",
    "tf.get_logger().setLevel(logging.ERROR)\n",
    "\n",
    "os.environ['PYTHONWARNINGS'] = 'ignore'\n",
    "\n",
    "logging.getLogger('tensorflow').setLevel(logging.ERROR)\n",
    "\n",
    "# pulisci directory di keras tuner\n",
    "shutil.rmtree('tuning/', ignore_errors=True)\n"
   ]
  },
  {
   "cell_type": "code",
   "execution_count": 2,
   "metadata": {},
   "outputs": [],
   "source": [
    "console = Console()\n",
    "\n",
    "# Funzione per stampare un messaggio con un determinato stile\n",
    "def print_message(message, style):\n",
    "    text = Text(message, style=style)\n",
    "    console.print(text)\n",
    "\n",
    "# Funzione per stampare una tabella con Rich\n",
    "def print_table(title, columns, rows):\n",
    "    table = Table(title=title)\n",
    "    for col in columns:\n",
    "        table.add_column(col['header'], justify=col.get('justify', 'center'), style=col.get('style', 'bright_white'))\n",
    "    for row in rows:\n",
    "        table.add_row(*row)\n",
    "    console.print(table)\n",
    "\n",
    "# Funzione per stampare un messaggio di successo\n",
    "def printSuccess(message):\n",
    "    print_message(message, \"bold bright_green\")\n",
    "\n",
    "# Funzione per stampare un messaggio di errore\n",
    "def printError(message):\n",
    "    print_message(message, \"bold bright_red\")\n",
    "\n",
    "# Crea e stampa una tabella formattata con Rich.\n",
    "def create_rich_table(title, columns, rows):\n",
    "    table = Table(title=title)\n",
    "    \n",
    "    # Aggiungi colonne alla tabella\n",
    "    for col in columns:\n",
    "        table.add_column(col['header'], justify=col.get('justify', 'center'), style=col.get('style', 'bright_white'))\n",
    "    \n",
    "    # Aggiungi righe alla tabella\n",
    "    for row in rows:\n",
    "        table.add_row(*row)\n",
    "    \n",
    "    # Stampa la tabella\n",
    "    console.print(table)\n",
    "\n",
    "\n",
    "# Funzione per stampare una tabella di valutazione del modello\n",
    "def print_evaluation_table(model_name, test_class_report, test_accuracy):\n",
    "    rows = [\n",
    "        [\"Accuracy\", f\"{test_accuracy:.4f}\"],\n",
    "        [\"Precision (wgtd_avg)\", f\"{test_class_report['weighted avg']['precision']:.4f}\"],\n",
    "        [\"Recall (wgtd_avg)\", f\"{test_class_report['weighted avg']['recall']:.4f}\"],\n",
    "        [\"F1-Score (wgtd_avg)\", f\"{test_class_report['weighted avg']['f1-score']:.4f}\"]\n",
    "    ]\n",
    "    columns = [{\"header\": \"Metric\", \"style\": \"bright_cyan\"}, {\"header\": \"Result\", \"style\": \"bright_green\", \"justify\": \"center\"}]\n",
    "    print_table(\"Model Evaluation Results for \" + model_name, columns, rows)\n",
    "\n",
    "# Funzione per stampare una tabella con i migliori iperparametri\n",
    "def print_best_params_table(model_name, best_params):\n",
    "    rows = [[param, str(value)] for param, value in best_params.items()]\n",
    "    columns = [{\"header\": \"Hyperparameter\", \"style\": \"bright_cyan\"}, {\"header\": \"Value\", \"style\": \"bright_magenta\", \"justify\": \"center\"}]\n",
    "    print_table(\"Best Hyperparameters for \" + model_name, columns, rows)\n",
    "\n",
    "# Funzione per stampare una tabella con i migliori iperparametri CNN\n",
    "def print_best_hyperparameters(model_name, best_hps):\n",
    "    rows = [[param, str(best_hps.get(param))] for param in best_hps.values.keys()]\n",
    "    columns = [{\"header\": \"Hyperparameter\", \"style\": \"bright_cyan\"}, {\"header\": \"Value\", \"style\": \"bright_magenta\", \"justify\": \"center\"}]\n",
    "    print_table(\"Best Hyperparameters for \" + model_name, columns, rows)"
   ]
  },
  {
   "cell_type": "code",
   "execution_count": 3,
   "metadata": {},
   "outputs": [],
   "source": [
    "# Dizionario globale per memorizzare i risultati dei vari modelli\n",
    "global_model_results = {}\n",
    "\n",
    "# Salva i risultati del modello nel dizionario globale.\n",
    "def save_model_results(model_name, test_class_report, test_accuracy):\n",
    "    global global_model_results\n",
    "    \n",
    "    # Verifica che i risultati siano specifici per il modello corrente\n",
    "    model_results = {\n",
    "        'Test Accuracy': test_accuracy,\n",
    "        'Test Precision': test_class_report['weighted avg']['precision'],\n",
    "        'Test Recall': test_class_report['weighted avg']['recall'],\n",
    "        'Test F1-Score': test_class_report['weighted avg']['f1-score']\n",
    "    }\n",
    "    \n",
    "    # Salva i risultati nel dizionario globale usando il nome del modello come chiave\n",
    "    global_model_results[model_name] = model_results\n",
    "\n",
    "# Esegue la valutazione del modello sul test set, stampa i risultati e li salva\n",
    "def evaluate_and_save_model(model_name, final_model, images_testing, labels_testing):\n",
    "\n",
    "    # Predizione delle probabilità o delle etichette discrete per il test set\n",
    "    y_test_pred_prob = final_model.predict(images_testing)\n",
    "\n",
    "    # Controllo se il modello restituisce probabilità (tipico per modelli di reti neurali)\n",
    "    if y_test_pred_prob.ndim > 1 and y_test_pred_prob.shape[1] > 1:\n",
    "        # Conversione delle probabilità in etichette discrete\n",
    "        y_test_pred = np.argmax(y_test_pred_prob, axis=1)\n",
    "        \n",
    "        # Conversione delle etichette del test set in un formato compatibile se necessario (ad esempio se sono one-hot encoded)\n",
    "        if labels_testing.ndim > 1 and labels_testing.shape[1] > 1:\n",
    "            labels_testing = np.argmax(labels_testing, axis=1)\n",
    "    else:\n",
    "        # Se il modello restituisce direttamente le etichette\n",
    "        y_test_pred = y_test_pred_prob\n",
    "\n",
    "    # Valutazione del modello sul test set\n",
    "    test_class_report = classification_report(labels_testing, y_test_pred, output_dict=True)\n",
    "    test_accuracy = accuracy_score(labels_testing, y_test_pred)\n",
    "\n",
    "    # DEBUG PRINT\n",
    "    #print(test_class_report)\n",
    "\n",
    "    # Stampa dei risultati della valutazione in una tabella formattata\n",
    "    print_evaluation_table(model_name, test_class_report, test_accuracy)\n",
    "\n",
    "    # Salvataggio dei risultati nel dizionario globale\n",
    "    save_model_results(model_name, test_class_report, test_accuracy)\n",
    "\n",
    "# Caso CNN\n",
    "def evaluate_and_save_model_cnn(model_name, final_model, images_testing, labels_testing, history, figsize=(8, 5)):\n",
    "    evaluate_and_save_model(model_name, final_model, images_testing, labels_testing)\n",
    "    pd.DataFrame(history.history).plot(figsize=figsize)\n",
    "    plt.grid(True)\n",
    "    plt.gca().set_ylim(0, 1)\n",
    "    plt.show()\n"
   ]
  },
  {
   "cell_type": "code",
   "execution_count": 4,
   "metadata": {},
   "outputs": [],
   "source": [
    "def plot_feature_maps(output, title=\"\", max_maps=20):\n",
    "    if len(output.shape) == 4:  # Se l'output è 4D (tipico delle feature maps)\n",
    "        n = min(max_maps, output.shape[-1])\n",
    "        cols = 5 if n >= 5 else 3\n",
    "        rows = int(math.ceil(n / cols))\n",
    "        fig, axs = plt.subplots(rows, cols, figsize=(8, 2.5 * rows))\n",
    "        fig.suptitle(title)\n",
    "        for i, ax in enumerate(axs.flat):\n",
    "            if i < n:  \n",
    "                ax.imshow(output[0, :, :, i], interpolation=\"nearest\")\n",
    "            ax.axis(\"off\")\n",
    "    elif len(output.shape) == 2:  # Se l'output è 2D (come da un livello Flatten o Dense) Ignora\n",
    "        print(\"\", end=\"\")\n",
    "    else:\n",
    "        print(f\"Output shape not supported for visualization: {output.shape}\")\n",
    "\n",
    "def plot_cnn_transformations(model, images_testing_cnn):\n",
    "    for layer_i in range(len(model.layers)):\n",
    "        truncated_model = keras.Model(inputs=model.layers[0].input, outputs=model.layers[layer_i].output)\n",
    "        layer_name = model.layers[layer_i].name\n",
    "        output = truncated_model.predict(images_testing_cnn[0:1])\n",
    "        plot_feature_maps(output, title=f\"Activations of Layer {layer_i} ({layer_name})\")\n",
    "\n",
    "plt.show()\n",
    "\n",
    "\n",
    "def plot_global_comparison(yLim_touple):\n",
    "    # Supponiamo che global_model_results sia già popolato con i risultati dei modelli\n",
    "    # Converti i risultati in un DataFrame per un confronto più semplice\n",
    "    df_results = pd.DataFrame(global_model_results).transpose()\n",
    "\n",
    "    # Reset index per avere i nomi dei modelli come colonna\n",
    "    df_results.reset_index(inplace=True)\n",
    "    df_results.rename(columns={'index': 'Model'}, inplace=True)\n",
    "\n",
    "    # Configurazione dello stile del grafico\n",
    "    sns.set(style=\"whitegrid\")\n",
    "    palette = sns.color_palette(\"bright\", len(df_results))\n",
    "\n",
    "    # Creazione di un grafico a barre multiple per confrontare le metriche principali\n",
    "    plt.figure(figsize=(20, 12))\n",
    "\n",
    "    # Accuracy plot\n",
    "    plt.subplot(2, 2, 1)\n",
    "    sns.barplot(x='Model', y='Test Accuracy', data=df_results, palette=palette)\n",
    "    plt.title('Accuracy Comparison')\n",
    "    plt.ylabel('Accuracy')\n",
    "    plt.ylim(yLim_touple)\n",
    "\n",
    "    # F1-Score plot\n",
    "    plt.subplot(2, 2, 2)\n",
    "    sns.barplot(x='Model', y='Test F1-Score', data=df_results, palette=palette)\n",
    "    plt.title('F1-Score Comparison')\n",
    "    plt.ylabel('F1-Score')\n",
    "    plt.ylim(yLim_touple)\n",
    "\n",
    "    # Precision plot\n",
    "    plt.subplot(2, 2, 3)\n",
    "    sns.barplot(x='Model', y='Test Precision', data=df_results, palette=palette)\n",
    "    plt.title('Precision Comparison')\n",
    "    plt.ylabel('Precision')\n",
    "    plt.ylim(yLim_touple)\n",
    "\n",
    "    # Recall plot\n",
    "    plt.subplot(2, 2, 4)\n",
    "    sns.barplot(x='Model', y='Test Recall', data=df_results, palette=palette)\n",
    "    plt.title('Recall Comparison')\n",
    "    plt.ylabel('Recall')\n",
    "    plt.ylim(yLim_touple)\n",
    "\n",
    "    # Regolazione del layout e visualizzazione del grafico\n",
    "    plt.tight_layout()\n",
    "    plt.show()"
   ]
  },
  {
   "cell_type": "markdown",
   "metadata": {},
   "source": [
    "## Introduzione\n",
    "\n",
    "L’obiettivo del progetto è addestrare e valutare uno o più modelli di classificazione sul dataset `MedMNIST-Pneumonia`. Questo dataset contiene una collezione di immagini mediche, come radiografie del torace, classificate in base alla presenza (classe 1) o assenza (classe 0) di polmonite.\n",
    "\n",
    "In questo progetto, procederemo con i seguenti obiettivi:\n",
    "- Esplorare e visualizzare il dataset per comprendere meglio la natura delle immagini.\n",
    "- Preprocessare i dati per prepararli all'addestramento.\n",
    "- Implementare e confrontare diversi modelli di machine learning, partendo da modelli più semplici e muovendoci verso modelli più sofisticati.\n",
    "- Valutare le performance finali per decretare il modello migliore.\n",
    "\n",
    "![pneumonia](../res/pneumonia.png)"
   ]
  },
  {
   "cell_type": "markdown",
   "metadata": {},
   "source": [
    "## Visualizzazione delle Immagini del Dataset\n",
    "\n",
    "In questa sezione, visualizzeremo 8 esempi di immagini estratti dal dataset di interesse, suddivisi in 4 immagini con polmonite (classe 1) e 4 senza polmonite (classe 0). L'obiettivo è fornire un confronto visivo diretto tra le radiografie che mostrano la presenza di polmonite e quelle che non la presentano."
   ]
  },
  {
   "cell_type": "code",
   "execution_count": 5,
   "metadata": {},
   "outputs": [
    {
     "data": {
      "image/png": "[encoded data removed]",
      "text/plain": [
       "<Figure size 1152x576 with 8 Axes>"
      ]
     },
     "metadata": {
      "needs_background": "light"
     },
     "output_type": "display_data"
    }
   ],
   "source": [
    "images = np.load(\"../res/pneumonia_images.npy\")\n",
    "labels = np.load(\"../res/pneumonia_labels.npy\")\n",
    "\n",
    "indices_with_pneumonia = np.where(labels == 1)[0]\n",
    "indices_without_pneumonia = np.where(labels == 0)[0]\n",
    "\n",
    "plt.figure(figsize=(16, 8))\n",
    "\n",
    "for i in range(4):\n",
    "    # Immagini con polmonite\n",
    "    plt.subplot(2, 4, i + 1)\n",
    "    plt.imshow(images[indices_with_pneumonia[i]], cmap='gray')\n",
    "    plt.title(f'Polmonite [Classe:{labels[indices_with_pneumonia[i]][0]}]')\n",
    "    plt.axis('off')\n",
    "\n",
    "    # Immagini senza polmonite\n",
    "    plt.subplot(2, 4, i + 5)\n",
    "    plt.imshow(images[indices_without_pneumonia[i]], cmap='gray')\n",
    "    plt.title(f'Senza Polmonite [Classe:{labels[indices_without_pneumonia[i]][0]}]')\n",
    "    plt.axis('off')\n",
    "\n",
    "plt.show()\n"
   ]
  },
  {
   "cell_type": "markdown",
   "metadata": {},
   "source": [
    "## Preparazione dei Dati\n",
    "\n",
    "In questa sezione, prepareremo i dati per l'addestramento dei modelli. Le fasi principali includeranno:\n",
    "- **Normalizzazione**: Ridimensionamento dei valori dei pixel in un range [0, 1].\n",
    "- **Suddivisione dei Dati**: Separazione del dataset in set di training, validation e testing.\n"
   ]
  },
  {
   "cell_type": "code",
   "execution_count": 6,
   "metadata": {},
   "outputs": [
    {
     "name": "stdout",
     "output_type": "stream",
     "text": [
      "Dimensioni delle Immagini [STD]: 28x28\n",
      "Dimensioni delle Immagini [FLATTENED]: 784\n",
      "Dimensioni delle Immagini [CNN]: 28x28\n"
     ]
    }
   ],
   "source": [
    "# Normalizzazione delle immagini (i valori dei pixel vengono ridotti a [0, 1])\n",
    "images = images / 255.0\n",
    "\n",
    "# Suddivisione del dataset in training (70%), validation (15%) e testing (15%)\n",
    "images_training, X_temp, labels_training, y_temp = train_test_split(images, labels, test_size=0.3, random_state=42)\n",
    "images_validation, images_testing, labels_validation, labels_testing = train_test_split(X_temp, y_temp, test_size=0.5, random_state=42)\n",
    "\n",
    "# Flatten delle immagini per compatibilità con primi modelli\n",
    "images_training_flat = images_training.reshape(images_training.shape[0], -1)\n",
    "images_validation_flat = images_validation.reshape(images_validation.shape[0], -1)\n",
    "images_testing_flat = images_testing.reshape(images_testing.shape[0], -1)\n",
    "\n",
    "# Flatten delle immagini per compatibilità con lenet e le altre cnn\n",
    "images_training_cnn = images_training.reshape(-1,28,28,1)\n",
    "images_validation_cnn = images_validation.reshape(-1,28,28,1)\n",
    "images_testing_cnn = images_testing.reshape(-1,28,28,1)\n",
    "\n",
    "# Unione di training e validation set per training sul modello finale\n",
    "images_train_val = np.concatenate((images_training, images_validation))\n",
    "labels_train_val = np.concatenate((labels_training, labels_validation))\n",
    "# Appiattimento del nuovo set di dati combinato\n",
    "images_train_val_flat = images_train_val.reshape(images_train_val.shape[0], -1)\n",
    "images_train_val_cnn = images_train_val.reshape(-1,28,28,1)\n",
    "\n",
    "# Stampa separata delle dimensioni delle immagini\n",
    "print(f\"Dimensioni delle Immagini [STD]: {images_training.shape[1]}x{images_training.shape[2]}\")\n",
    "print(f\"Dimensioni delle Immagini [FLATTENED]: {images_training_flat.shape[1]}\")\n",
    "print(f\"Dimensioni delle Immagini [CNN]: {images_training_cnn.shape[1]}x{images_training_cnn.shape[2]}\")"
   ]
  },
  {
   "cell_type": "code",
   "execution_count": 7,
   "metadata": {},
   "outputs": [
    {
     "data": {
      "text/html": [
       "<pre style=\"white-space:pre;overflow-x:auto;line-height:normal;font-family:Menlo,'DejaVu Sans Mono',consolas,'Courier New',monospace\"><span style=\"font-style: italic\">                      Dataset Split Information                      </span>\n",
       "┏━━━━━━━━━━━━━━━━┳━━━━━━━━━━━━━━━━━━━━┳━━━━━━━━━━━━━━┳━━━━━━━━━━━━━━┓\n",
       "┃<span style=\"font-weight: bold\"> Dataset        </span>┃<span style=\"font-weight: bold\"> Numero di Immagini </span>┃<span style=\"font-weight: bold\"> Classe 0 (%) </span>┃<span style=\"font-weight: bold\"> Classe 1 (%) </span>┃\n",
       "┡━━━━━━━━━━━━━━━━╇━━━━━━━━━━━━━━━━━━━━╇━━━━━━━━━━━━━━╇━━━━━━━━━━━━━━┩\n",
       "│<span style=\"color: #ff00ff; text-decoration-color: #ff00ff\"> Training Set   </span>│<span style=\"color: #00ffff; text-decoration-color: #00ffff\">               3662 </span>│<span style=\"color: #00ff00; text-decoration-color: #00ff00\">        25.72 </span>│<span style=\"color: #ff0000; text-decoration-color: #ff0000\">        74.28 </span>│\n",
       "│<span style=\"color: #ff00ff; text-decoration-color: #ff00ff\"> Validation Set </span>│<span style=\"color: #00ffff; text-decoration-color: #00ffff\">                785 </span>│<span style=\"color: #00ff00; text-decoration-color: #00ff00\">        28.03 </span>│<span style=\"color: #ff0000; text-decoration-color: #ff0000\">        71.97 </span>│\n",
       "│<span style=\"color: #ff00ff; text-decoration-color: #ff00ff\"> Test Set       </span>│<span style=\"color: #00ffff; text-decoration-color: #00ffff\">                785 </span>│<span style=\"color: #00ff00; text-decoration-color: #00ff00\">        23.82 </span>│<span style=\"color: #ff0000; text-decoration-color: #ff0000\">        76.18 </span>│\n",
       "│<span style=\"color: #ff00ff; text-decoration-color: #ff00ff\"> TOT            </span>│<span style=\"color: #00ffff; text-decoration-color: #00ffff\">               5232 </span>│<span style=\"color: #00ff00; text-decoration-color: #00ff00\">        25.86 </span>│<span style=\"color: #ff0000; text-decoration-color: #ff0000\">        74.14 </span>│\n",
       "└────────────────┴────────────────────┴──────────────┴──────────────┘\n",
       "</pre>\n"
      ],
      "text/plain": [
       "\u001b[3m                      Dataset Split Information                      \u001b[0m\n",
       "┏━━━━━━━━━━━━━━━━┳━━━━━━━━━━━━━━━━━━━━┳━━━━━━━━━━━━━━┳━━━━━━━━━━━━━━┓\n",
       "┃\u001b[1m \u001b[0m\u001b[1mDataset       \u001b[0m\u001b[1m \u001b[0m┃\u001b[1m \u001b[0m\u001b[1mNumero di Immagini\u001b[0m\u001b[1m \u001b[0m┃\u001b[1m \u001b[0m\u001b[1mClasse 0 (%)\u001b[0m\u001b[1m \u001b[0m┃\u001b[1m \u001b[0m\u001b[1mClasse 1 (%)\u001b[0m\u001b[1m \u001b[0m┃\n",
       "┡━━━━━━━━━━━━━━━━╇━━━━━━━━━━━━━━━━━━━━╇━━━━━━━━━━━━━━╇━━━━━━━━━━━━━━┩\n",
       "│\u001b[95m \u001b[0m\u001b[95mTraining Set  \u001b[0m\u001b[95m \u001b[0m│\u001b[96m \u001b[0m\u001b[96m              3662\u001b[0m\u001b[96m \u001b[0m│\u001b[92m \u001b[0m\u001b[92m       25.72\u001b[0m\u001b[92m \u001b[0m│\u001b[91m \u001b[0m\u001b[91m       74.28\u001b[0m\u001b[91m \u001b[0m│\n",
       "│\u001b[95m \u001b[0m\u001b[95mValidation Set\u001b[0m\u001b[95m \u001b[0m│\u001b[96m \u001b[0m\u001b[96m               785\u001b[0m\u001b[96m \u001b[0m│\u001b[92m \u001b[0m\u001b[92m       28.03\u001b[0m\u001b[92m \u001b[0m│\u001b[91m \u001b[0m\u001b[91m       71.97\u001b[0m\u001b[91m \u001b[0m│\n",
       "│\u001b[95m \u001b[0m\u001b[95mTest Set      \u001b[0m\u001b[95m \u001b[0m│\u001b[96m \u001b[0m\u001b[96m               785\u001b[0m\u001b[96m \u001b[0m│\u001b[92m \u001b[0m\u001b[92m       23.82\u001b[0m\u001b[92m \u001b[0m│\u001b[91m \u001b[0m\u001b[91m       76.18\u001b[0m\u001b[91m \u001b[0m│\n",
       "│\u001b[95m \u001b[0m\u001b[95mTOT           \u001b[0m\u001b[95m \u001b[0m│\u001b[96m \u001b[0m\u001b[96m              5232\u001b[0m\u001b[96m \u001b[0m│\u001b[92m \u001b[0m\u001b[92m       25.86\u001b[0m\u001b[92m \u001b[0m│\u001b[91m \u001b[0m\u001b[91m       74.14\u001b[0m\u001b[91m \u001b[0m│\n",
       "└────────────────┴────────────────────┴──────────────┴──────────────┘\n"
      ]
     },
     "metadata": {},
     "output_type": "display_data"
    }
   ],
   "source": [
    "def display_dataset_split_info(images_training, labels_training, images_validation, labels_validation, images_testing, labels_testing):\n",
    "    \"\"\"\n",
    "    Calcola e visualizza le percentuali delle classi 0 e 1 nei set di dati di training, validation e test.\n",
    "    \n",
    "    Args:\n",
    "        images_training: Immagini del set di training.\n",
    "        labels_training: Etichette del set di training.\n",
    "        images_validation: Immagini del set di validation.\n",
    "        labels_validation: Etichette del set di validation.\n",
    "        images_testing: Immagini del set di testing.\n",
    "        labels_testing: Etichette del set di testing.\n",
    "    \"\"\"\n",
    "\n",
    "    # Funzione interna per calcolare le percentuali di classi 0 e 1\n",
    "    def calculate_class_percentages(labels):\n",
    "        class_0_percentage = (labels == 0).mean() * 100\n",
    "        class_1_percentage = (labels == 1).mean() * 100\n",
    "        return class_0_percentage, class_1_percentage\n",
    "\n",
    "    # Calcolo delle percentuali di classi nei vari set\n",
    "    training_class_0, training_class_1 = calculate_class_percentages(labels_training)\n",
    "    validation_class_0, validation_class_1 = calculate_class_percentages(labels_validation)\n",
    "    testing_class_0, testing_class_1 = calculate_class_percentages(labels_testing)\n",
    "\n",
    "    # Preparazione delle righe per la tabella\n",
    "    rows = [\n",
    "        [\"Training Set\", str(images_training.shape[0]), f\"{training_class_0:.2f}\", f\"{training_class_1:.2f}\"],\n",
    "        [\"Validation Set\", str(images_validation.shape[0]), f\"{validation_class_0:.2f}\", f\"{validation_class_1:.2f}\"],\n",
    "        [\"Test Set\", str(images_testing.shape[0]), f\"{testing_class_0:.2f}\", f\"{testing_class_1:.2f}\"],\n",
    "        [\"TOT\", str(images_training.shape[0] + images_validation.shape[0] + images_testing.shape[0]), \n",
    "         f\"{(training_class_0 + validation_class_0 + testing_class_0) / 3:.2f}\", \n",
    "         f\"{(training_class_1 + validation_class_1 + testing_class_1) / 3:.2f}\"]\n",
    "    ]\n",
    "\n",
    "    # Definizione delle colonne della tabella\n",
    "    columns = [\n",
    "        {'header': 'Dataset', 'justify': 'left', 'style': 'bright_magenta'},\n",
    "        {'header': 'Numero di Immagini', 'justify': 'right', 'style': 'bright_cyan'},\n",
    "        {'header': 'Classe 0 (%)', 'justify': 'right', 'style': 'bright_green'},\n",
    "        {'header': 'Classe 1 (%)', 'justify': 'right', 'style': 'bright_red'}\n",
    "    ]\n",
    "\n",
    "    # Creazione e visualizzazione della tabella usando l'utility\n",
    "    create_rich_table(\"Dataset Split Information\", columns, rows)\n",
    "\n",
    "    \n",
    "display_dataset_split_info(images_training, labels_training, images_validation, labels_validation, images_testing, labels_testing)\n"
   ]
  },
  {
   "cell_type": "markdown",
   "metadata": {},
   "source": [
    "## Implementazione dei Modelli di Base\n",
    "\n",
    "In questa sezione, implementeremo diversi modelli di machine learning classici, tra cui K-Nearest Neighbors (KNN), Random Forest (RF) e Logistic Regression (LR), per stabilire un punto di partenza nelle performance."
   ]
  },
  {
   "cell_type": "markdown",
   "metadata": {},
   "source": [
    "### K-Nearest Neighbors (KNN)\n",
    "\n",
    "Iniziamo con l'implementazione del modello KNN, esplorando diversi iperparametri utilizzando RandomizedSearchCV."
   ]
  },
  {
   "cell_type": "code",
   "execution_count": 8,
   "metadata": {},
   "outputs": [
    {
     "data": {
      "text/html": [
       "<pre style=\"white-space:pre;overflow-x:auto;line-height:normal;font-family:Menlo,'DejaVu Sans Mono',consolas,'Courier New',monospace\"><span style=\"color: #00ff00; text-decoration-color: #00ff00; font-weight: bold\">KNN MODEL TRAINED SUCCESSFULLY!</span>\n",
       "</pre>\n"
      ],
      "text/plain": [
       "\u001b[1;92mKNN MODEL TRAINED SUCCESSFULLY!\u001b[0m\n"
      ]
     },
     "metadata": {},
     "output_type": "display_data"
    },
    {
     "data": {
      "text/html": [
       "<pre style=\"white-space:pre;overflow-x:auto;line-height:normal;font-family:Menlo,'DejaVu Sans Mono',consolas,'Courier New',monospace\"><span style=\"font-style: italic\"> Best Hyperparameters for KNN </span>\n",
       "┏━━━━━━━━━━━━━━━━┳━━━━━━━━━━━┓\n",
       "┃<span style=\"font-weight: bold\"> Hyperparameter </span>┃<span style=\"font-weight: bold\">   Value   </span>┃\n",
       "┡━━━━━━━━━━━━━━━━╇━━━━━━━━━━━┩\n",
       "│<span style=\"color: #00ffff; text-decoration-color: #00ffff\">    weights     </span>│<span style=\"color: #ff00ff; text-decoration-color: #ff00ff\"> distance  </span>│\n",
       "│<span style=\"color: #00ffff; text-decoration-color: #00ffff\">       p        </span>│<span style=\"color: #ff00ff; text-decoration-color: #ff00ff\">     2     </span>│\n",
       "│<span style=\"color: #00ffff; text-decoration-color: #00ffff\">  n_neighbors   </span>│<span style=\"color: #ff00ff; text-decoration-color: #ff00ff\">     8     </span>│\n",
       "│<span style=\"color: #00ffff; text-decoration-color: #00ffff\">     metric     </span>│<span style=\"color: #ff00ff; text-decoration-color: #ff00ff\"> manhattan </span>│\n",
       "│<span style=\"color: #00ffff; text-decoration-color: #00ffff\">   algorithm    </span>│<span style=\"color: #ff00ff; text-decoration-color: #ff00ff\"> ball_tree </span>│\n",
       "└────────────────┴───────────┘\n",
       "</pre>\n"
      ],
      "text/plain": [
       "\u001b[3m Best Hyperparameters for KNN \u001b[0m\n",
       "┏━━━━━━━━━━━━━━━━┳━━━━━━━━━━━┓\n",
       "┃\u001b[1m \u001b[0m\u001b[1mHyperparameter\u001b[0m\u001b[1m \u001b[0m┃\u001b[1m \u001b[0m\u001b[1m  Value  \u001b[0m\u001b[1m \u001b[0m┃\n",
       "┡━━━━━━━━━━━━━━━━╇━━━━━━━━━━━┩\n",
       "│\u001b[96m \u001b[0m\u001b[96m   weights    \u001b[0m\u001b[96m \u001b[0m│\u001b[95m \u001b[0m\u001b[95mdistance \u001b[0m\u001b[95m \u001b[0m│\n",
       "│\u001b[96m \u001b[0m\u001b[96m      p       \u001b[0m\u001b[96m \u001b[0m│\u001b[95m \u001b[0m\u001b[95m    2    \u001b[0m\u001b[95m \u001b[0m│\n",
       "│\u001b[96m \u001b[0m\u001b[96m n_neighbors  \u001b[0m\u001b[96m \u001b[0m│\u001b[95m \u001b[0m\u001b[95m    8    \u001b[0m\u001b[95m \u001b[0m│\n",
       "│\u001b[96m \u001b[0m\u001b[96m    metric    \u001b[0m\u001b[96m \u001b[0m│\u001b[95m \u001b[0m\u001b[95mmanhattan\u001b[0m\u001b[95m \u001b[0m│\n",
       "│\u001b[96m \u001b[0m\u001b[96m  algorithm   \u001b[0m\u001b[96m \u001b[0m│\u001b[95m \u001b[0m\u001b[95mball_tree\u001b[0m\u001b[95m \u001b[0m│\n",
       "└────────────────┴───────────┘\n"
      ]
     },
     "metadata": {},
     "output_type": "display_data"
    },
    {
     "data": {
      "text/html": [
       "<pre style=\"white-space:pre;overflow-x:auto;line-height:normal;font-family:Menlo,'DejaVu Sans Mono',consolas,'Courier New',monospace\"><span style=\"font-style: italic\">Model Evaluation Results for KNN </span>\n",
       "┏━━━━━━━━━━━━━━━━━━━━━━┳━━━━━━━━┓\n",
       "┃<span style=\"font-weight: bold\">        Metric        </span>┃<span style=\"font-weight: bold\"> Result </span>┃\n",
       "┡━━━━━━━━━━━━━━━━━━━━━━╇━━━━━━━━┩\n",
       "│<span style=\"color: #00ffff; text-decoration-color: #00ffff\">       Accuracy       </span>│<span style=\"color: #00ff00; text-decoration-color: #00ff00\"> 0.9643 </span>│\n",
       "│<span style=\"color: #00ffff; text-decoration-color: #00ffff\"> Precision (wgtd_avg) </span>│<span style=\"color: #00ff00; text-decoration-color: #00ff00\"> 0.9641 </span>│\n",
       "│<span style=\"color: #00ffff; text-decoration-color: #00ffff\">  Recall (wgtd_avg)   </span>│<span style=\"color: #00ff00; text-decoration-color: #00ff00\"> 0.9643 </span>│\n",
       "│<span style=\"color: #00ffff; text-decoration-color: #00ffff\"> F1-Score (wgtd_avg)  </span>│<span style=\"color: #00ff00; text-decoration-color: #00ff00\"> 0.9640 </span>│\n",
       "└──────────────────────┴────────┘\n",
       "</pre>\n"
      ],
      "text/plain": [
       "\u001b[3mModel Evaluation Results for KNN \u001b[0m\n",
       "┏━━━━━━━━━━━━━━━━━━━━━━┳━━━━━━━━┓\n",
       "┃\u001b[1m \u001b[0m\u001b[1m       Metric       \u001b[0m\u001b[1m \u001b[0m┃\u001b[1m \u001b[0m\u001b[1mResult\u001b[0m\u001b[1m \u001b[0m┃\n",
       "┡━━━━━━━━━━━━━━━━━━━━━━╇━━━━━━━━┩\n",
       "│\u001b[96m \u001b[0m\u001b[96m      Accuracy      \u001b[0m\u001b[96m \u001b[0m│\u001b[92m \u001b[0m\u001b[92m0.9643\u001b[0m\u001b[92m \u001b[0m│\n",
       "│\u001b[96m \u001b[0m\u001b[96mPrecision (wgtd_avg)\u001b[0m\u001b[96m \u001b[0m│\u001b[92m \u001b[0m\u001b[92m0.9641\u001b[0m\u001b[92m \u001b[0m│\n",
       "│\u001b[96m \u001b[0m\u001b[96m Recall (wgtd_avg)  \u001b[0m\u001b[96m \u001b[0m│\u001b[92m \u001b[0m\u001b[92m0.9643\u001b[0m\u001b[92m \u001b[0m│\n",
       "│\u001b[96m \u001b[0m\u001b[96mF1-Score (wgtd_avg) \u001b[0m\u001b[96m \u001b[0m│\u001b[92m \u001b[0m\u001b[92m0.9640\u001b[0m\u001b[92m \u001b[0m│\n",
       "└──────────────────────┴────────┘\n"
      ]
     },
     "metadata": {},
     "output_type": "display_data"
    }
   ],
   "source": [
    "model_name = \"KNN\"\n",
    "\n",
    "# Definizione dell'intervallo di iperparametri da esplorare\n",
    "param_dist = {\n",
    "    'n_neighbors': np.arange(1, 31),  # Numero di vicini da usare\n",
    "    'weights': ['uniform', 'distance'],  # Funzione di peso usata per la previsione\n",
    "    'metric': ['euclidean', 'manhattan', 'minkowski', 'chebyshev'],  # Metrica di distanza\n",
    "    'p': [1, 2, 3],  # Parametro di potenza per la metrica Minkowski\n",
    "    'algorithm': ['auto', 'ball_tree', 'kd_tree', 'brute'],  # Algoritmo usato per trovare i vicini\n",
    "}\n",
    "\n",
    "# Inizializzazione del modello KNN\n",
    "knn_model = KNeighborsClassifier()\n",
    "\n",
    "# Configurazione di RandomizedSearchCV con cross-validation a 5 fold\n",
    "random_search = RandomizedSearchCV(\n",
    "    estimator=knn_model,\n",
    "    param_distributions=param_dist,\n",
    "    n_iter=30,  # Numero di configurazioni di parametri campionate\n",
    "    cv=5,  # Cross-validation a 5 fold\n",
    "    scoring='accuracy',\n",
    "    n_jobs=-1,\n",
    "    random_state=42\n",
    ")\n",
    "\n",
    "# Esecuzione della ricerca randomizzata sui dati di training\n",
    "random_search.fit(images_training_flat, labels_training.ravel())\n",
    "\n",
    "printSuccess(model_name + \" MODEL TRAINED SUCCESSFULLY!\")\n",
    "\n",
    "# Estrazione dei migliori iperparametri\n",
    "best_params = random_search.best_params_\n",
    "\n",
    "# Stampa dei migliori iperparametri in una tabella formattata\n",
    "print_best_params_table(model_name, best_params)\n",
    "\n",
    "# Addestramento del modello con tutti i dati di addestramento (training + validation)\n",
    "final_model = KNeighborsClassifier(**best_params)\n",
    "final_model.fit(images_train_val_flat, labels_train_val.ravel())\n",
    "\n",
    "# 5. Valutazione e salvataggio dei risultati sul test set\n",
    "evaluate_and_save_model(model_name, final_model, images_testing_flat, labels_testing)"
   ]
  },
  {
   "cell_type": "markdown",
   "metadata": {},
   "source": [
    "### Random Forest (RF)\n",
    "\n",
    "Successivamente, implementiamo un modello Random Forest per il confronto."
   ]
  },
  {
   "cell_type": "code",
   "execution_count": 9,
   "metadata": {},
   "outputs": [
    {
     "data": {
      "text/html": [
       "<pre style=\"white-space:pre;overflow-x:auto;line-height:normal;font-family:Menlo,'DejaVu Sans Mono',consolas,'Courier New',monospace\"><span style=\"color: #00ff00; text-decoration-color: #00ff00; font-weight: bold\">RF MODEL TRAINED SUCCESSFULLY!</span>\n",
       "</pre>\n"
      ],
      "text/plain": [
       "\u001b[1;92mRF MODEL TRAINED SUCCESSFULLY!\u001b[0m\n"
      ]
     },
     "metadata": {},
     "output_type": "display_data"
    },
    {
     "data": {
      "text/html": [
       "<pre style=\"white-space:pre;overflow-x:auto;line-height:normal;font-family:Menlo,'DejaVu Sans Mono',consolas,'Courier New',monospace\"><span style=\"font-style: italic\">  Best Hyperparameters for RF   </span>\n",
       "┏━━━━━━━━━━━━━━━━━━━┳━━━━━━━━━━┓\n",
       "┃<span style=\"font-weight: bold\">  Hyperparameter   </span>┃<span style=\"font-weight: bold\">  Value   </span>┃\n",
       "┡━━━━━━━━━━━━━━━━━━━╇━━━━━━━━━━┩\n",
       "│<span style=\"color: #00ffff; text-decoration-color: #00ffff\">   n_estimators    </span>│<span style=\"color: #ff00ff; text-decoration-color: #ff00ff\">   300    </span>│\n",
       "│<span style=\"color: #00ffff; text-decoration-color: #00ffff\"> min_samples_split </span>│<span style=\"color: #ff00ff; text-decoration-color: #ff00ff\">    2     </span>│\n",
       "│<span style=\"color: #00ffff; text-decoration-color: #00ffff\"> min_samples_leaf  </span>│<span style=\"color: #ff00ff; text-decoration-color: #ff00ff\">    1     </span>│\n",
       "│<span style=\"color: #00ffff; text-decoration-color: #00ffff\">   max_features    </span>│<span style=\"color: #ff00ff; text-decoration-color: #ff00ff\">   sqrt   </span>│\n",
       "│<span style=\"color: #00ffff; text-decoration-color: #00ffff\">     max_depth     </span>│<span style=\"color: #ff00ff; text-decoration-color: #ff00ff\">    30    </span>│\n",
       "│<span style=\"color: #00ffff; text-decoration-color: #00ffff\">     criterion     </span>│<span style=\"color: #ff00ff; text-decoration-color: #ff00ff\"> entropy  </span>│\n",
       "│<span style=\"color: #00ffff; text-decoration-color: #00ffff\">   class_weight    </span>│<span style=\"color: #ff00ff; text-decoration-color: #ff00ff\"> balanced </span>│\n",
       "│<span style=\"color: #00ffff; text-decoration-color: #00ffff\">     bootstrap     </span>│<span style=\"color: #ff00ff; text-decoration-color: #ff00ff\">  False   </span>│\n",
       "└───────────────────┴──────────┘\n",
       "</pre>\n"
      ],
      "text/plain": [
       "\u001b[3m  Best Hyperparameters for RF   \u001b[0m\n",
       "┏━━━━━━━━━━━━━━━━━━━┳━━━━━━━━━━┓\n",
       "┃\u001b[1m \u001b[0m\u001b[1m Hyperparameter  \u001b[0m\u001b[1m \u001b[0m┃\u001b[1m \u001b[0m\u001b[1m Value  \u001b[0m\u001b[1m \u001b[0m┃\n",
       "┡━━━━━━━━━━━━━━━━━━━╇━━━━━━━━━━┩\n",
       "│\u001b[96m \u001b[0m\u001b[96m  n_estimators   \u001b[0m\u001b[96m \u001b[0m│\u001b[95m \u001b[0m\u001b[95m  300   \u001b[0m\u001b[95m \u001b[0m│\n",
       "│\u001b[96m \u001b[0m\u001b[96mmin_samples_split\u001b[0m\u001b[96m \u001b[0m│\u001b[95m \u001b[0m\u001b[95m   2    \u001b[0m\u001b[95m \u001b[0m│\n",
       "│\u001b[96m \u001b[0m\u001b[96mmin_samples_leaf \u001b[0m\u001b[96m \u001b[0m│\u001b[95m \u001b[0m\u001b[95m   1    \u001b[0m\u001b[95m \u001b[0m│\n",
       "│\u001b[96m \u001b[0m\u001b[96m  max_features   \u001b[0m\u001b[96m \u001b[0m│\u001b[95m \u001b[0m\u001b[95m  sqrt  \u001b[0m\u001b[95m \u001b[0m│\n",
       "│\u001b[96m \u001b[0m\u001b[96m    max_depth    \u001b[0m\u001b[96m \u001b[0m│\u001b[95m \u001b[0m\u001b[95m   30   \u001b[0m\u001b[95m \u001b[0m│\n",
       "│\u001b[96m \u001b[0m\u001b[96m    criterion    \u001b[0m\u001b[96m \u001b[0m│\u001b[95m \u001b[0m\u001b[95mentropy \u001b[0m\u001b[95m \u001b[0m│\n",
       "│\u001b[96m \u001b[0m\u001b[96m  class_weight   \u001b[0m\u001b[96m \u001b[0m│\u001b[95m \u001b[0m\u001b[95mbalanced\u001b[0m\u001b[95m \u001b[0m│\n",
       "│\u001b[96m \u001b[0m\u001b[96m    bootstrap    \u001b[0m\u001b[96m \u001b[0m│\u001b[95m \u001b[0m\u001b[95m False  \u001b[0m\u001b[95m \u001b[0m│\n",
       "└───────────────────┴──────────┘\n"
      ]
     },
     "metadata": {},
     "output_type": "display_data"
    },
    {
     "data": {
      "text/html": [
       "<pre style=\"white-space:pre;overflow-x:auto;line-height:normal;font-family:Menlo,'DejaVu Sans Mono',consolas,'Courier New',monospace\"><span style=\"font-style: italic\"> Model Evaluation Results for RF </span>\n",
       "┏━━━━━━━━━━━━━━━━━━━━━━┳━━━━━━━━┓\n",
       "┃<span style=\"font-weight: bold\">        Metric        </span>┃<span style=\"font-weight: bold\"> Result </span>┃\n",
       "┡━━━━━━━━━━━━━━━━━━━━━━╇━━━━━━━━┩\n",
       "│<span style=\"color: #00ffff; text-decoration-color: #00ffff\">       Accuracy       </span>│<span style=\"color: #00ff00; text-decoration-color: #00ff00\"> 0.9580 </span>│\n",
       "│<span style=\"color: #00ffff; text-decoration-color: #00ffff\"> Precision (wgtd_avg) </span>│<span style=\"color: #00ff00; text-decoration-color: #00ff00\"> 0.9576 </span>│\n",
       "│<span style=\"color: #00ffff; text-decoration-color: #00ffff\">  Recall (wgtd_avg)   </span>│<span style=\"color: #00ff00; text-decoration-color: #00ff00\"> 0.9580 </span>│\n",
       "│<span style=\"color: #00ffff; text-decoration-color: #00ffff\"> F1-Score (wgtd_avg)  </span>│<span style=\"color: #00ff00; text-decoration-color: #00ff00\"> 0.9574 </span>│\n",
       "└──────────────────────┴────────┘\n",
       "</pre>\n"
      ],
      "text/plain": [
       "\u001b[3m Model Evaluation Results for RF \u001b[0m\n",
       "┏━━━━━━━━━━━━━━━━━━━━━━┳━━━━━━━━┓\n",
       "┃\u001b[1m \u001b[0m\u001b[1m       Metric       \u001b[0m\u001b[1m \u001b[0m┃\u001b[1m \u001b[0m\u001b[1mResult\u001b[0m\u001b[1m \u001b[0m┃\n",
       "┡━━━━━━━━━━━━━━━━━━━━━━╇━━━━━━━━┩\n",
       "│\u001b[96m \u001b[0m\u001b[96m      Accuracy      \u001b[0m\u001b[96m \u001b[0m│\u001b[92m \u001b[0m\u001b[92m0.9580\u001b[0m\u001b[92m \u001b[0m│\n",
       "│\u001b[96m \u001b[0m\u001b[96mPrecision (wgtd_avg)\u001b[0m\u001b[96m \u001b[0m│\u001b[92m \u001b[0m\u001b[92m0.9576\u001b[0m\u001b[92m \u001b[0m│\n",
       "│\u001b[96m \u001b[0m\u001b[96m Recall (wgtd_avg)  \u001b[0m\u001b[96m \u001b[0m│\u001b[92m \u001b[0m\u001b[92m0.9580\u001b[0m\u001b[92m \u001b[0m│\n",
       "│\u001b[96m \u001b[0m\u001b[96mF1-Score (wgtd_avg) \u001b[0m\u001b[96m \u001b[0m│\u001b[92m \u001b[0m\u001b[92m0.9574\u001b[0m\u001b[92m \u001b[0m│\n",
       "└──────────────────────┴────────┘\n"
      ]
     },
     "metadata": {},
     "output_type": "display_data"
    }
   ],
   "source": [
    "model_name = \"RF\"\n",
    "# Definizione del range di iperparametri da esplorare\n",
    "param_grid = {\n",
    "    'n_estimators': [100, 200, 300],  # Numero di alberi nella foresta\n",
    "    'max_depth': [10, 20, 30, None],  # Profondità massima degli alberi\n",
    "    'min_samples_split': [2, 5, 10],  # Numero minimo di campioni richiesti per dividere un nodo\n",
    "    'min_samples_leaf': [1, 2, 4],  # Numero minimo di campioni che un nodo foglia deve contenere\n",
    "    'max_features': ['sqrt', 'log2'],  # Numero massimo di caratteristiche considerate per la migliore divisione\n",
    "    'bootstrap': [True, False],  # Se usare o meno il bootstrap\n",
    "    'criterion': ['gini', 'entropy'],  # Criterio di divisione\n",
    "    'class_weight': ['balanced', None]  # Pesi delle classi\n",
    "}\n",
    "\n",
    "# Inizializzazione del modello Random Forest\n",
    "rf_model = RandomForestClassifier(random_state=42)\n",
    "\n",
    "# Configurazione della Randomized Search con Cross-Validation (5-fold)\n",
    "random_search = RandomizedSearchCV(estimator=rf_model, param_distributions=param_grid, \n",
    "                                   n_iter=20, cv=5, scoring='accuracy', n_jobs=-1, random_state=42)\n",
    "\n",
    "# Esecuzione della Randomized Search sul set di training\n",
    "random_search.fit(images_training_flat, labels_training.ravel())\n",
    "\n",
    "printSuccess(model_name + \" MODEL TRAINED SUCCESSFULLY!\")\n",
    "\n",
    "# Ottenimento dei migliori iperparametri trovati\n",
    "best_params = random_search.best_params_\n",
    "\n",
    "# Mostra i migliori iperparametri trovati\n",
    "print_best_params_table(model_name, best_params)\n",
    "\n",
    "#  Addestramento del modello con tutti i dati di addestramento (training + validation)\n",
    "final_model = RandomForestClassifier(**best_params, random_state=42)\n",
    "final_model.fit(images_train_val_flat, labels_train_val.ravel())\n",
    "\n",
    "# 6. Valutazione e salvataggio dei risultati sul test set\n",
    "evaluate_and_save_model(model_name, final_model, images_testing_flat, labels_testing)"
   ]
  },
  {
   "cell_type": "markdown",
   "metadata": {},
   "source": [
    "### Logistic Regression (LR)\n",
    "\n",
    "Infine, implementiamo il modello di Logistic Regression."
   ]
  },
  {
   "cell_type": "code",
   "execution_count": 10,
   "metadata": {},
   "outputs": [
    {
     "data": {
      "text/html": [
       "<pre style=\"white-space:pre;overflow-x:auto;line-height:normal;font-family:Menlo,'DejaVu Sans Mono',consolas,'Courier New',monospace\"><span style=\"color: #00ff00; text-decoration-color: #00ff00; font-weight: bold\">LR MODEL TRAINED SUCCESSFULLY!</span>\n",
       "</pre>\n"
      ],
      "text/plain": [
       "\u001b[1;92mLR MODEL TRAINED SUCCESSFULLY!\u001b[0m\n"
      ]
     },
     "metadata": {},
     "output_type": "display_data"
    },
    {
     "data": {
      "text/html": [
       "<pre style=\"white-space:pre;overflow-x:auto;line-height:normal;font-family:Menlo,'DejaVu Sans Mono',consolas,'Courier New',monospace\"><span style=\"font-style: italic\">      Best Hyperparameters for LR      </span>\n",
       "┏━━━━━━━━━━━━━━━━┳━━━━━━━━━━━━━━━━━━━━┓\n",
       "┃<span style=\"font-weight: bold\"> Hyperparameter </span>┃<span style=\"font-weight: bold\">       Value        </span>┃\n",
       "┡━━━━━━━━━━━━━━━━╇━━━━━━━━━━━━━━━━━━━━┩\n",
       "│<span style=\"color: #00ffff; text-decoration-color: #00ffff\">       C        </span>│<span style=\"color: #ff00ff; text-decoration-color: #ff00ff\"> 2.9314464853521813 </span>│\n",
       "│<span style=\"color: #00ffff; text-decoration-color: #00ffff\">  class_weight  </span>│<span style=\"color: #ff00ff; text-decoration-color: #ff00ff\">        None        </span>│\n",
       "│<span style=\"color: #00ffff; text-decoration-color: #00ffff\"> fit_intercept  </span>│<span style=\"color: #ff00ff; text-decoration-color: #ff00ff\">        True        </span>│\n",
       "│<span style=\"color: #00ffff; text-decoration-color: #00ffff\">    penalty     </span>│<span style=\"color: #ff00ff; text-decoration-color: #ff00ff\">         l2         </span>│\n",
       "│<span style=\"color: #00ffff; text-decoration-color: #00ffff\">     solver     </span>│<span style=\"color: #ff00ff; text-decoration-color: #ff00ff\">  newton-cholesky   </span>│\n",
       "│<span style=\"color: #00ffff; text-decoration-color: #00ffff\">   warm_start   </span>│<span style=\"color: #ff00ff; text-decoration-color: #ff00ff\">        True        </span>│\n",
       "└────────────────┴────────────────────┘\n",
       "</pre>\n"
      ],
      "text/plain": [
       "\u001b[3m      Best Hyperparameters for LR      \u001b[0m\n",
       "┏━━━━━━━━━━━━━━━━┳━━━━━━━━━━━━━━━━━━━━┓\n",
       "┃\u001b[1m \u001b[0m\u001b[1mHyperparameter\u001b[0m\u001b[1m \u001b[0m┃\u001b[1m \u001b[0m\u001b[1m      Value       \u001b[0m\u001b[1m \u001b[0m┃\n",
       "┡━━━━━━━━━━━━━━━━╇━━━━━━━━━━━━━━━━━━━━┩\n",
       "│\u001b[96m \u001b[0m\u001b[96m      C       \u001b[0m\u001b[96m \u001b[0m│\u001b[95m \u001b[0m\u001b[95m2.9314464853521813\u001b[0m\u001b[95m \u001b[0m│\n",
       "│\u001b[96m \u001b[0m\u001b[96m class_weight \u001b[0m\u001b[96m \u001b[0m│\u001b[95m \u001b[0m\u001b[95m       None       \u001b[0m\u001b[95m \u001b[0m│\n",
       "│\u001b[96m \u001b[0m\u001b[96mfit_intercept \u001b[0m\u001b[96m \u001b[0m│\u001b[95m \u001b[0m\u001b[95m       True       \u001b[0m\u001b[95m \u001b[0m│\n",
       "│\u001b[96m \u001b[0m\u001b[96m   penalty    \u001b[0m\u001b[96m \u001b[0m│\u001b[95m \u001b[0m\u001b[95m        l2        \u001b[0m\u001b[95m \u001b[0m│\n",
       "│\u001b[96m \u001b[0m\u001b[96m    solver    \u001b[0m\u001b[96m \u001b[0m│\u001b[95m \u001b[0m\u001b[95m newton-cholesky  \u001b[0m\u001b[95m \u001b[0m│\n",
       "│\u001b[96m \u001b[0m\u001b[96m  warm_start  \u001b[0m\u001b[96m \u001b[0m│\u001b[95m \u001b[0m\u001b[95m       True       \u001b[0m\u001b[95m \u001b[0m│\n",
       "└────────────────┴────────────────────┘\n"
      ]
     },
     "metadata": {},
     "output_type": "display_data"
    },
    {
     "data": {
      "text/html": [
       "<pre style=\"white-space:pre;overflow-x:auto;line-height:normal;font-family:Menlo,'DejaVu Sans Mono',consolas,'Courier New',monospace\"><span style=\"font-style: italic\"> Model Evaluation Results for LR </span>\n",
       "┏━━━━━━━━━━━━━━━━━━━━━━┳━━━━━━━━┓\n",
       "┃<span style=\"font-weight: bold\">        Metric        </span>┃<span style=\"font-weight: bold\"> Result </span>┃\n",
       "┡━━━━━━━━━━━━━━━━━━━━━━╇━━━━━━━━┩\n",
       "│<span style=\"color: #00ffff; text-decoration-color: #00ffff\">       Accuracy       </span>│<span style=\"color: #00ff00; text-decoration-color: #00ff00\"> 0.9656 </span>│\n",
       "│<span style=\"color: #00ffff; text-decoration-color: #00ffff\"> Precision (wgtd_avg) </span>│<span style=\"color: #00ff00; text-decoration-color: #00ff00\"> 0.9654 </span>│\n",
       "│<span style=\"color: #00ffff; text-decoration-color: #00ffff\">  Recall (wgtd_avg)   </span>│<span style=\"color: #00ff00; text-decoration-color: #00ff00\"> 0.9656 </span>│\n",
       "│<span style=\"color: #00ffff; text-decoration-color: #00ffff\"> F1-Score (wgtd_avg)  </span>│<span style=\"color: #00ff00; text-decoration-color: #00ff00\"> 0.9653 </span>│\n",
       "└──────────────────────┴────────┘\n",
       "</pre>\n"
      ],
      "text/plain": [
       "\u001b[3m Model Evaluation Results for LR \u001b[0m\n",
       "┏━━━━━━━━━━━━━━━━━━━━━━┳━━━━━━━━┓\n",
       "┃\u001b[1m \u001b[0m\u001b[1m       Metric       \u001b[0m\u001b[1m \u001b[0m┃\u001b[1m \u001b[0m\u001b[1mResult\u001b[0m\u001b[1m \u001b[0m┃\n",
       "┡━━━━━━━━━━━━━━━━━━━━━━╇━━━━━━━━┩\n",
       "│\u001b[96m \u001b[0m\u001b[96m      Accuracy      \u001b[0m\u001b[96m \u001b[0m│\u001b[92m \u001b[0m\u001b[92m0.9656\u001b[0m\u001b[92m \u001b[0m│\n",
       "│\u001b[96m \u001b[0m\u001b[96mPrecision (wgtd_avg)\u001b[0m\u001b[96m \u001b[0m│\u001b[92m \u001b[0m\u001b[92m0.9654\u001b[0m\u001b[92m \u001b[0m│\n",
       "│\u001b[96m \u001b[0m\u001b[96m Recall (wgtd_avg)  \u001b[0m\u001b[96m \u001b[0m│\u001b[92m \u001b[0m\u001b[92m0.9656\u001b[0m\u001b[92m \u001b[0m│\n",
       "│\u001b[96m \u001b[0m\u001b[96mF1-Score (wgtd_avg) \u001b[0m\u001b[96m \u001b[0m│\u001b[92m \u001b[0m\u001b[92m0.9653\u001b[0m\u001b[92m \u001b[0m│\n",
       "└──────────────────────┴────────┘\n"
      ]
     },
     "metadata": {},
     "output_type": "display_data"
    }
   ],
   "source": [
    "model_name = \"LR\"\n",
    "\n",
    "# Definizione del range di iperparametri da esplorare, con filtro delle combinazioni non valide\n",
    "param_dist = {\n",
    "    'penalty': ['l1', 'l2', 'elasticnet'],\n",
    "    'C': uniform(0.01, 10),\n",
    "    'fit_intercept': [True, False],\n",
    "    'class_weight': ['balanced', None],\n",
    "    'solver': ['saga', 'liblinear', 'newton-cg', 'lbfgs', 'sag', 'newton-cholesky'], \n",
    "    'warm_start': [True, False]\n",
    "}\n",
    "\n",
    "# Inizializzazione del modello Logistic Regression\n",
    "logreg_model = LogisticRegression(random_state=42)\n",
    "\n",
    "# Configurazione di RandomizedSearchCV con cross-validation a 5 fold\n",
    "random_search = RandomizedSearchCV(\n",
    "    estimator=logreg_model,\n",
    "    param_distributions=param_dist,  # Utilizzo diretto di param_dist\n",
    "    n_iter=30,  # Numero di configurazioni di parametri campionate\n",
    "    cv=5,  # Cross-validation a 5 fold\n",
    "    scoring='accuracy',\n",
    "    n_jobs=-1,\n",
    "    random_state=42\n",
    ")\n",
    "\n",
    "# Esecuzione della ricerca randomizzata sui dati di training\n",
    "random_search.fit(images_training_flat, labels_training.ravel())\n",
    "\n",
    "printSuccess(model_name + \" MODEL TRAINED SUCCESSFULLY!\")\n",
    "\n",
    "# Estrazione dei migliori iperparametri\n",
    "best_params = random_search.best_params_\n",
    "\n",
    "# Stampa dei migliori iperparametri in una tabella formattata\n",
    "print_best_params_table(model_name, best_params)\n",
    "\n",
    "# 5. Addestramento del modello con tutti i dati di addestramento (training + validation)\n",
    "final_model = LogisticRegression(**best_params, random_state=42)\n",
    "final_model.fit(images_train_val_flat, labels_train_val.ravel())\n",
    "\n",
    "# 6. Valutazione e salvataggio dei risultati sul test set\n",
    "evaluate_and_save_model(model_name, final_model, images_testing_flat, labels_testing)"
   ]
  },
  {
   "cell_type": "markdown",
   "metadata": {},
   "source": [
    "## Costruzione del Modello MPL\n",
    "\n",
    "Implementiamo ora un modello di rete neurale MPL come baseline per confrontare le performance con i modelli classici. Usiamo Keras Tuner per ottimizzare gli iperparametri."
   ]
  },
  {
   "cell_type": "code",
   "execution_count": 11,
   "metadata": {},
   "outputs": [
    {
     "data": {
      "text/html": [
       "<pre style=\"white-space:pre;overflow-x:auto;line-height:normal;font-family:Menlo,'DejaVu Sans Mono',consolas,'Courier New',monospace\"><span style=\"color: #00ff00; text-decoration-color: #00ff00; font-weight: bold\">MPL MODEL TRAINED SUCCESSFULLY!</span>\n",
       "</pre>\n"
      ],
      "text/plain": [
       "\u001b[1;92mMPL MODEL TRAINED SUCCESSFULLY!\u001b[0m\n"
      ]
     },
     "metadata": {},
     "output_type": "display_data"
    },
    {
     "data": {
      "text/html": [
       "<pre style=\"white-space:pre;overflow-x:auto;line-height:normal;font-family:Menlo,'DejaVu Sans Mono',consolas,'Courier New',monospace\"><span style=\"font-style: italic\">    Best Hyperparameters for MPL    </span>\n",
       "┏━━━━━━━━━━━━━━━━━━━━━━┳━━━━━━━━━━━┓\n",
       "┃<span style=\"font-weight: bold\">    Hyperparameter    </span>┃<span style=\"font-weight: bold\">   Value   </span>┃\n",
       "┡━━━━━━━━━━━━━━━━━━━━━━╇━━━━━━━━━━━┩\n",
       "│<span style=\"color: #00ffff; text-decoration-color: #00ffff\">       units_1        </span>│<span style=\"color: #ff00ff; text-decoration-color: #ff00ff\">    384    </span>│\n",
       "│<span style=\"color: #00ffff; text-decoration-color: #00ffff\"> kernel_initializer_1 </span>│<span style=\"color: #ff00ff; text-decoration-color: #ff00ff\"> he_normal </span>│\n",
       "│<span style=\"color: #00ffff; text-decoration-color: #00ffff\">       units_2        </span>│<span style=\"color: #ff00ff; text-decoration-color: #ff00ff\">    128    </span>│\n",
       "│<span style=\"color: #00ffff; text-decoration-color: #00ffff\"> kernel_initializer_2 </span>│<span style=\"color: #ff00ff; text-decoration-color: #ff00ff\"> he_normal </span>│\n",
       "└──────────────────────┴───────────┘\n",
       "</pre>\n"
      ],
      "text/plain": [
       "\u001b[3m    Best Hyperparameters for MPL    \u001b[0m\n",
       "┏━━━━━━━━━━━━━━━━━━━━━━┳━━━━━━━━━━━┓\n",
       "┃\u001b[1m \u001b[0m\u001b[1m   Hyperparameter   \u001b[0m\u001b[1m \u001b[0m┃\u001b[1m \u001b[0m\u001b[1m  Value  \u001b[0m\u001b[1m \u001b[0m┃\n",
       "┡━━━━━━━━━━━━━━━━━━━━━━╇━━━━━━━━━━━┩\n",
       "│\u001b[96m \u001b[0m\u001b[96m      units_1       \u001b[0m\u001b[96m \u001b[0m│\u001b[95m \u001b[0m\u001b[95m   384   \u001b[0m\u001b[95m \u001b[0m│\n",
       "│\u001b[96m \u001b[0m\u001b[96mkernel_initializer_1\u001b[0m\u001b[96m \u001b[0m│\u001b[95m \u001b[0m\u001b[95mhe_normal\u001b[0m\u001b[95m \u001b[0m│\n",
       "│\u001b[96m \u001b[0m\u001b[96m      units_2       \u001b[0m\u001b[96m \u001b[0m│\u001b[95m \u001b[0m\u001b[95m   128   \u001b[0m\u001b[95m \u001b[0m│\n",
       "│\u001b[96m \u001b[0m\u001b[96mkernel_initializer_2\u001b[0m\u001b[96m \u001b[0m│\u001b[95m \u001b[0m\u001b[95mhe_normal\u001b[0m\u001b[95m \u001b[0m│\n",
       "└──────────────────────┴───────────┘\n"
      ]
     },
     "metadata": {},
     "output_type": "display_data"
    },
    {
     "name": "stdout",
     "output_type": "stream",
     "text": [
      "\u001b[1m25/25\u001b[0m \u001b[32m━━━━━━━━━━━━━━━━━━━━\u001b[0m\u001b[37m\u001b[0m \u001b[1m0s\u001b[0m 1ms/step \n"
     ]
    },
    {
     "data": {
      "text/html": [
       "<pre style=\"white-space:pre;overflow-x:auto;line-height:normal;font-family:Menlo,'DejaVu Sans Mono',consolas,'Courier New',monospace\"><span style=\"font-style: italic\">Model Evaluation Results for MPL </span>\n",
       "┏━━━━━━━━━━━━━━━━━━━━━━┳━━━━━━━━┓\n",
       "┃<span style=\"font-weight: bold\">        Metric        </span>┃<span style=\"font-weight: bold\"> Result </span>┃\n",
       "┡━━━━━━━━━━━━━━━━━━━━━━╇━━━━━━━━┩\n",
       "│<span style=\"color: #00ffff; text-decoration-color: #00ffff\">       Accuracy       </span>│<span style=\"color: #00ff00; text-decoration-color: #00ff00\"> 0.9618 </span>│\n",
       "│<span style=\"color: #00ffff; text-decoration-color: #00ffff\"> Precision (wgtd_avg) </span>│<span style=\"color: #00ff00; text-decoration-color: #00ff00\"> 0.9623 </span>│\n",
       "│<span style=\"color: #00ffff; text-decoration-color: #00ffff\">  Recall (wgtd_avg)   </span>│<span style=\"color: #00ff00; text-decoration-color: #00ff00\"> 0.9618 </span>│\n",
       "│<span style=\"color: #00ffff; text-decoration-color: #00ffff\"> F1-Score (wgtd_avg)  </span>│<span style=\"color: #00ff00; text-decoration-color: #00ff00\"> 0.9620 </span>│\n",
       "└──────────────────────┴────────┘\n",
       "</pre>\n"
      ],
      "text/plain": [
       "\u001b[3mModel Evaluation Results for MPL \u001b[0m\n",
       "┏━━━━━━━━━━━━━━━━━━━━━━┳━━━━━━━━┓\n",
       "┃\u001b[1m \u001b[0m\u001b[1m       Metric       \u001b[0m\u001b[1m \u001b[0m┃\u001b[1m \u001b[0m\u001b[1mResult\u001b[0m\u001b[1m \u001b[0m┃\n",
       "┡━━━━━━━━━━━━━━━━━━━━━━╇━━━━━━━━┩\n",
       "│\u001b[96m \u001b[0m\u001b[96m      Accuracy      \u001b[0m\u001b[96m \u001b[0m│\u001b[92m \u001b[0m\u001b[92m0.9618\u001b[0m\u001b[92m \u001b[0m│\n",
       "│\u001b[96m \u001b[0m\u001b[96mPrecision (wgtd_avg)\u001b[0m\u001b[96m \u001b[0m│\u001b[92m \u001b[0m\u001b[92m0.9623\u001b[0m\u001b[92m \u001b[0m│\n",
       "│\u001b[96m \u001b[0m\u001b[96m Recall (wgtd_avg)  \u001b[0m\u001b[96m \u001b[0m│\u001b[92m \u001b[0m\u001b[92m0.9618\u001b[0m\u001b[92m \u001b[0m│\n",
       "│\u001b[96m \u001b[0m\u001b[96mF1-Score (wgtd_avg) \u001b[0m\u001b[96m \u001b[0m│\u001b[92m \u001b[0m\u001b[92m0.9620\u001b[0m\u001b[92m \u001b[0m│\n",
       "└──────────────────────┴────────┘\n"
      ]
     },
     "metadata": {},
     "output_type": "display_data"
    },
    {
     "data": {
      "image/png": "[encoded data removed]",
      "text/plain": [
       "<Figure size 576x360 with 1 Axes>"
      ]
     },
     "metadata": {
      "needs_background": "light"
     },
     "output_type": "display_data"
    }
   ],
   "source": [
    "model_name = \"MPL\"\n",
    "\n",
    "# THE ONLY PURPOSE OF THIS IS TO SET THE SEEDS AND HAVE SAME RESULTS OVER DIFFERENT RUNS\n",
    "tf.keras.backend.clear_session()\n",
    "tf.random.set_seed(42)\n",
    "np.random.seed(42)\n",
    "random.seed(42)\n",
    "# THE ONLY PURPOSE OF THIS IS TO SET THE SEEDS AND HAVE SAME RESULTS OVER DIFFERENT RUNS\n",
    "\n",
    "# Funzione per costruire il modello con Keras Tuner\n",
    "def build_model(hp):\n",
    "    model = keras.Sequential()\n",
    "    \n",
    "    # Livello di input\n",
    "    model.add(keras.layers.Flatten(input_shape=(28, 28, 1)))\n",
    "\n",
    "    # Primo livello denso con scelta del numero di unità e del kernel_initializer\n",
    "    model.add(keras.layers.Dense(\n",
    "        units=hp.Int('units_1', min_value=128, max_value=512, step=32),\n",
    "        activation='relu',\n",
    "        kernel_initializer=hp.Choice('kernel_initializer_1', ['he_normal', 'glorot_uniform'])))\n",
    "    \n",
    "    # Secondo livello denso con scelta del numero di unità e del kernel_initializer\n",
    "    model.add(keras.layers.Dense(\n",
    "        units=hp.Int('units_2', min_value=64, max_value=256, step=32),\n",
    "        activation='relu',\n",
    "        kernel_initializer=hp.Choice('kernel_initializer_2', ['he_normal', 'glorot_uniform'])))\n",
    "    \n",
    "    # Livello di output\n",
    "    model.add(keras.layers.Dense(2, activation='softmax'))\n",
    "\n",
    "    # Compilazione del modello\n",
    "    model.compile(loss=\"sparse_categorical_crossentropy\",\n",
    "              optimizer=\"adam\",\n",
    "              metrics=[\"accuracy\"])\n",
    "    \n",
    "    return model\n",
    "\n",
    "shutil.rmtree('tuning/mpl_tuning', ignore_errors=True)\n",
    "# Configurazione del tuner per la ricerca degli iperparametri ottimali\n",
    "tuner = RandomSearch(\n",
    "    build_model,\n",
    "    max_trials=15,\n",
    "    objective='val_accuracy',\n",
    "    directory='tuning',\n",
    "    project_name='mpl_tuning',\n",
    "    seed=42)\n",
    "\n",
    "# Avvio della ricerca degli iperparametri\n",
    "tuner.search(images_training_cnn, labels_training, verbose=0,\n",
    "             epochs=150,\n",
    "             validation_data=(images_validation_cnn, labels_validation),\n",
    "             callbacks=[tf.keras.callbacks.EarlyStopping(patience=10)])\n",
    "\n",
    "# Ottenere gli iperparametri ottimali\n",
    "best_hps = tuner.get_best_hyperparameters(num_trials=1)[0]\n",
    "\n",
    "# Addestramento del miglior modello trovato\n",
    "model = tuner.hypermodel.build(best_hps)\n",
    "history = model.fit(images_training_cnn, labels_training, verbose=0,\n",
    "                    epochs=150,\n",
    "                    validation_data=(images_validation_cnn, labels_validation),\n",
    "                    callbacks=[tf.keras.callbacks.EarlyStopping(patience=10)])\n",
    "\n",
    "printSuccess(model_name + \" MODEL TRAINED SUCCESSFULLY!\")\n",
    "\n",
    "# Stampa della tabella con i migliori iperparametri\n",
    "print_best_hyperparameters(model_name, best_hps)\n",
    "\n",
    "# Valutazione del modello MPL ottimizzato sul test set\n",
    "evaluate_and_save_model_cnn(model_name, model, images_testing_cnn, labels_testing, history)"
   ]
  },
  {
   "cell_type": "markdown",
   "metadata": {},
   "source": [
    "## Costruzione del Modello MYLeNet\n",
    "\n",
    "Costruiamo poi un modello CNN custom basato sull'esempio di codice fornito per LeNet-5, anche qui sperimentando con il tuner per trovare la configurazione ottima di kernel initializer sui filtri convoluzionali e i livelli densi per migliorare ulteriormente le performance rispetto ai modelli precedenti."
   ]
  },
  {
   "cell_type": "code",
   "execution_count": 12,
   "metadata": {},
   "outputs": [
    {
     "data": {
      "text/html": [
       "<pre style=\"white-space:pre;overflow-x:auto;line-height:normal;font-family:Menlo,'DejaVu Sans Mono',consolas,'Courier New',monospace\"><span style=\"color: #00ff00; text-decoration-color: #00ff00; font-weight: bold\">MYLENET MODEL TRAINED SUCCESSFULLY!</span>\n",
       "</pre>\n"
      ],
      "text/plain": [
       "\u001b[1;92mMYLENET MODEL TRAINED SUCCESSFULLY!\u001b[0m\n"
      ]
     },
     "metadata": {},
     "output_type": "display_data"
    },
    {
     "data": {
      "text/html": [
       "<pre style=\"white-space:pre;overflow-x:auto;line-height:normal;font-family:Menlo,'DejaVu Sans Mono',consolas,'Courier New',monospace\"><span style=\"font-style: italic\">       Best Hyperparameters for MYLENET        </span>\n",
       "┏━━━━━━━━━━━━━━━━━━━━━━━━━━━━┳━━━━━━━━━━━━━━━━┓\n",
       "┃<span style=\"font-weight: bold\">       Hyperparameter       </span>┃<span style=\"font-weight: bold\">     Value      </span>┃\n",
       "┡━━━━━━━━━━━━━━━━━━━━━━━━━━━━╇━━━━━━━━━━━━━━━━┩\n",
       "│<span style=\"color: #00ffff; text-decoration-color: #00ffff\"> conv_kernel_initializer_1  </span>│<span style=\"color: #ff00ff; text-decoration-color: #ff00ff\">   he_normal    </span>│\n",
       "│<span style=\"color: #00ffff; text-decoration-color: #00ffff\"> conv_kernel_initializer_2  </span>│<span style=\"color: #ff00ff; text-decoration-color: #ff00ff\">   he_normal    </span>│\n",
       "│<span style=\"color: #00ffff; text-decoration-color: #00ffff\"> dense_kernel_initializer_1 </span>│<span style=\"color: #ff00ff; text-decoration-color: #ff00ff\"> glorot_uniform </span>│\n",
       "│<span style=\"color: #00ffff; text-decoration-color: #00ffff\"> dense_kernel_initializer_2 </span>│<span style=\"color: #ff00ff; text-decoration-color: #ff00ff\">   he_normal    </span>│\n",
       "└────────────────────────────┴────────────────┘\n",
       "</pre>\n"
      ],
      "text/plain": [
       "\u001b[3m       Best Hyperparameters for MYLENET        \u001b[0m\n",
       "┏━━━━━━━━━━━━━━━━━━━━━━━━━━━━┳━━━━━━━━━━━━━━━━┓\n",
       "┃\u001b[1m \u001b[0m\u001b[1m      Hyperparameter      \u001b[0m\u001b[1m \u001b[0m┃\u001b[1m \u001b[0m\u001b[1m    Value     \u001b[0m\u001b[1m \u001b[0m┃\n",
       "┡━━━━━━━━━━━━━━━━━━━━━━━━━━━━╇━━━━━━━━━━━━━━━━┩\n",
       "│\u001b[96m \u001b[0m\u001b[96mconv_kernel_initializer_1 \u001b[0m\u001b[96m \u001b[0m│\u001b[95m \u001b[0m\u001b[95m  he_normal   \u001b[0m\u001b[95m \u001b[0m│\n",
       "│\u001b[96m \u001b[0m\u001b[96mconv_kernel_initializer_2 \u001b[0m\u001b[96m \u001b[0m│\u001b[95m \u001b[0m\u001b[95m  he_normal   \u001b[0m\u001b[95m \u001b[0m│\n",
       "│\u001b[96m \u001b[0m\u001b[96mdense_kernel_initializer_1\u001b[0m\u001b[96m \u001b[0m│\u001b[95m \u001b[0m\u001b[95mglorot_uniform\u001b[0m\u001b[95m \u001b[0m│\n",
       "│\u001b[96m \u001b[0m\u001b[96mdense_kernel_initializer_2\u001b[0m\u001b[96m \u001b[0m│\u001b[95m \u001b[0m\u001b[95m  he_normal   \u001b[0m\u001b[95m \u001b[0m│\n",
       "└────────────────────────────┴────────────────┘\n"
      ]
     },
     "metadata": {},
     "output_type": "display_data"
    },
    {
     "name": "stdout",
     "output_type": "stream",
     "text": [
      "\u001b[1m25/25\u001b[0m \u001b[32m━━━━━━━━━━━━━━━━━━━━\u001b[0m\u001b[37m\u001b[0m \u001b[1m0s\u001b[0m 2ms/step \n"
     ]
    },
    {
     "data": {
      "text/html": [
       "<pre style=\"white-space:pre;overflow-x:auto;line-height:normal;font-family:Menlo,'DejaVu Sans Mono',consolas,'Courier New',monospace\"><span style=\"font-style: italic\">  Model Evaluation Results for   </span>\n",
       "<span style=\"font-style: italic\">             MYLENET             </span>\n",
       "┏━━━━━━━━━━━━━━━━━━━━━━┳━━━━━━━━┓\n",
       "┃<span style=\"font-weight: bold\">        Metric        </span>┃<span style=\"font-weight: bold\"> Result </span>┃\n",
       "┡━━━━━━━━━━━━━━━━━━━━━━╇━━━━━━━━┩\n",
       "│<span style=\"color: #00ffff; text-decoration-color: #00ffff\">       Accuracy       </span>│<span style=\"color: #00ff00; text-decoration-color: #00ff00\"> 0.9796 </span>│\n",
       "│<span style=\"color: #00ffff; text-decoration-color: #00ffff\"> Precision (wgtd_avg) </span>│<span style=\"color: #00ff00; text-decoration-color: #00ff00\"> 0.9795 </span>│\n",
       "│<span style=\"color: #00ffff; text-decoration-color: #00ffff\">  Recall (wgtd_avg)   </span>│<span style=\"color: #00ff00; text-decoration-color: #00ff00\"> 0.9796 </span>│\n",
       "│<span style=\"color: #00ffff; text-decoration-color: #00ffff\"> F1-Score (wgtd_avg)  </span>│<span style=\"color: #00ff00; text-decoration-color: #00ff00\"> 0.9795 </span>│\n",
       "└──────────────────────┴────────┘\n",
       "</pre>\n"
      ],
      "text/plain": [
       "\u001b[3m  Model Evaluation Results for   \u001b[0m\n",
       "\u001b[3m             MYLENET             \u001b[0m\n",
       "┏━━━━━━━━━━━━━━━━━━━━━━┳━━━━━━━━┓\n",
       "┃\u001b[1m \u001b[0m\u001b[1m       Metric       \u001b[0m\u001b[1m \u001b[0m┃\u001b[1m \u001b[0m\u001b[1mResult\u001b[0m\u001b[1m \u001b[0m┃\n",
       "┡━━━━━━━━━━━━━━━━━━━━━━╇━━━━━━━━┩\n",
       "│\u001b[96m \u001b[0m\u001b[96m      Accuracy      \u001b[0m\u001b[96m \u001b[0m│\u001b[92m \u001b[0m\u001b[92m0.9796\u001b[0m\u001b[92m \u001b[0m│\n",
       "│\u001b[96m \u001b[0m\u001b[96mPrecision (wgtd_avg)\u001b[0m\u001b[96m \u001b[0m│\u001b[92m \u001b[0m\u001b[92m0.9795\u001b[0m\u001b[92m \u001b[0m│\n",
       "│\u001b[96m \u001b[0m\u001b[96m Recall (wgtd_avg)  \u001b[0m\u001b[96m \u001b[0m│\u001b[92m \u001b[0m\u001b[92m0.9796\u001b[0m\u001b[92m \u001b[0m│\n",
       "│\u001b[96m \u001b[0m\u001b[96mF1-Score (wgtd_avg) \u001b[0m\u001b[96m \u001b[0m│\u001b[92m \u001b[0m\u001b[92m0.9795\u001b[0m\u001b[92m \u001b[0m│\n",
       "└──────────────────────┴────────┘\n"
      ]
     },
     "metadata": {},
     "output_type": "display_data"
    },
    {
     "data": {
      "image/png": "[encoded data removed]",
      "text/plain": [
       "<Figure size 576x360 with 1 Axes>"
      ]
     },
     "metadata": {
      "needs_background": "light"
     },
     "output_type": "display_data"
    }
   ],
   "source": [
    "model_name = \"MYLENET\"\n",
    "\n",
    "# THE ONLY PURPOSE OF THIS IS TO SET THE SEEDS AND HAVE SAME RESULTS OVER DIFFERENT RUNS\n",
    "tf.keras.backend.clear_session()\n",
    "tf.random.set_seed(42)\n",
    "np.random.seed(42)\n",
    "random.seed(42)\n",
    "# THE ONLY PURPOSE OF THIS IS TO SET THE SEEDS AND HAVE SAME RESULTS OVER DIFFERENT RUNS\n",
    "\n",
    "# Funzione per costruire il modello Custom LeNet con Keras Tuner\n",
    "def build_lenet_model(hp):\n",
    "    model = tf.keras.models.Sequential()\n",
    "    \n",
    "    # Primo livello Conv2D con scelta del numero di filtri e del kernel_initializer\n",
    "    model.add(tf.keras.layers.Conv2D(\n",
    "        filters=6,\n",
    "        kernel_size=5,\n",
    "        activation='relu',\n",
    "        padding='same',\n",
    "        input_shape=(28, 28, 1),\n",
    "        kernel_initializer=hp.Choice('conv_kernel_initializer_1', ['he_normal', 'glorot_uniform'])))\n",
    "    \n",
    "    # Primo livello di pooling\n",
    "    model.add(tf.keras.layers.AveragePooling2D(pool_size=2, strides=2))\n",
    "    \n",
    "    # Secondo livello Conv2D con scelta del numero di filtri\n",
    "    model.add(tf.keras.layers.Conv2D(\n",
    "        filters=16,\n",
    "        kernel_size=5,\n",
    "        activation='relu',\n",
    "        kernel_initializer=hp.Choice('conv_kernel_initializer_2', ['he_normal', 'glorot_uniform'])))\n",
    "    \n",
    "    # Secondo livello di pooling\n",
    "    model.add(tf.keras.layers.AveragePooling2D(pool_size=2, strides=2))\n",
    "    \n",
    "    # Flatten\n",
    "    model.add(tf.keras.layers.Flatten())\n",
    "    \n",
    "    # Primo livello denso con scelta del numero di unità e del kernel_initializer\n",
    "    model.add(tf.keras.layers.Dense(\n",
    "        units=120,\n",
    "        activation='relu',\n",
    "        kernel_initializer=hp.Choice('dense_kernel_initializer_1', ['he_normal', 'glorot_uniform'])))\n",
    "    \n",
    "    # Secondo livello denso con scelta del numero di unità e del kernel_initializer\n",
    "    model.add(tf.keras.layers.Dense(\n",
    "        units=84,\n",
    "        activation='relu',\n",
    "        kernel_initializer=hp.Choice('dense_kernel_initializer_2', ['he_normal', 'glorot_uniform'])))\n",
    "    \n",
    "    # Livello di output\n",
    "    model.add(tf.keras.layers.Dense(2, activation='softmax'))\n",
    "\n",
    "    # Compilazione del modello\n",
    "    model.compile(loss=\"sparse_categorical_crossentropy\",\n",
    "                  optimizer=\"adam\",\n",
    "                  metrics=[\"accuracy\"])\n",
    "    \n",
    "    return model\n",
    "\n",
    "shutil.rmtree('tuning/my_lenet_tuning', ignore_errors=True)\n",
    "# Configurazione del tuner per la ricerca degli iperparametri ottimali per il modello MYLeNet\n",
    "tuner = RandomSearch(\n",
    "    build_lenet_model,\n",
    "    max_trials=15,\n",
    "    objective='val_accuracy',\n",
    "    directory='tuning',\n",
    "    project_name='my_lenet_tuning',\n",
    "    seed=42)\n",
    "\n",
    "# Avvio della ricerca degli iperparametri\n",
    "tuner.search(images_training_cnn, labels_training, verbose=0,\n",
    "             epochs=150,\n",
    "             validation_data=(images_validation_cnn, labels_validation),\n",
    "             callbacks=[tf.keras.callbacks.EarlyStopping(patience=10)])\n",
    "\n",
    "# Ottenimento degli iperparametri ottimali\n",
    "best_hps = tuner.get_best_hyperparameters(num_trials=1)[0]\n",
    "\n",
    "# Addestramento del miglior modello trovato\n",
    "model = tuner.hypermodel.build(best_hps)\n",
    "history = model.fit(images_training_cnn, labels_training, verbose=0,\n",
    "                    epochs=150,\n",
    "                    validation_data=(images_validation_cnn, labels_validation),\n",
    "                    batch_size=256,\n",
    "                    callbacks=[tf.keras.callbacks.EarlyStopping(patience=10)])\n",
    "\n",
    "printSuccess(model_name + \" MODEL TRAINED SUCCESSFULLY!\")\n",
    "\n",
    "# Stampa della tabella con i migliori iperparametri\n",
    "print_best_hyperparameters(model_name, best_hps)\n",
    "\n",
    "# Valutazione del modello MYLeNet ottimizzato sul test set\n",
    "evaluate_and_save_model_cnn(model_name, model, images_testing_cnn, labels_testing, history)"
   ]
  },
  {
   "cell_type": "markdown",
   "metadata": {},
   "source": [
    "## Visualizzazione delle Attivazioni nelle CNN\n",
    "\n",
    "Dopo aver addestrato il modello MYLeNet, visualizziamo le attivazioni di diversi livelli per comprendere meglio come la rete neurale processa le immagini."
   ]
  },
  {
   "cell_type": "code",
   "execution_count": 13,
   "metadata": {},
   "outputs": [
    {
     "data": {
      "text/html": [
       "<pre style=\"white-space:pre;overflow-x:auto;line-height:normal;font-family:Menlo,'DejaVu Sans Mono',consolas,'Courier New',monospace\"><span style=\"font-weight: bold\">Model: \"sequential_1\"</span>\n",
       "</pre>\n"
      ],
      "text/plain": [
       "\u001b[1mModel: \"sequential_1\"\u001b[0m\n"
      ]
     },
     "metadata": {},
     "output_type": "display_data"
    },
    {
     "data": {
      "text/html": [
       "<pre style=\"white-space:pre;overflow-x:auto;line-height:normal;font-family:Menlo,'DejaVu Sans Mono',consolas,'Courier New',monospace\">┏━━━━━━━━━━━━━━━━━━━━━━━━━━━━━━━━━┳━━━━━━━━━━━━━━━━━━━━━━━━┳━━━━━━━━━━━━━━━┓\n",
       "┃<span style=\"font-weight: bold\"> Layer (type)                    </span>┃<span style=\"font-weight: bold\"> Output Shape           </span>┃<span style=\"font-weight: bold\">       Param # </span>┃\n",
       "┡━━━━━━━━━━━━━━━━━━━━━━━━━━━━━━━━━╇━━━━━━━━━━━━━━━━━━━━━━━━╇━━━━━━━━━━━━━━━┩\n",
       "│ conv2d_2 (<span style=\"color: #0087ff; text-decoration-color: #0087ff\">Conv2D</span>)               │ (<span style=\"color: #00d7ff; text-decoration-color: #00d7ff\">None</span>, <span style=\"color: #00af00; text-decoration-color: #00af00\">28</span>, <span style=\"color: #00af00; text-decoration-color: #00af00\">28</span>, <span style=\"color: #00af00; text-decoration-color: #00af00\">6</span>)      │           <span style=\"color: #00af00; text-decoration-color: #00af00\">156</span> │\n",
       "├─────────────────────────────────┼────────────────────────┼───────────────┤\n",
       "│ average_pooling2d_2             │ (<span style=\"color: #00d7ff; text-decoration-color: #00d7ff\">None</span>, <span style=\"color: #00af00; text-decoration-color: #00af00\">14</span>, <span style=\"color: #00af00; text-decoration-color: #00af00\">14</span>, <span style=\"color: #00af00; text-decoration-color: #00af00\">6</span>)      │             <span style=\"color: #00af00; text-decoration-color: #00af00\">0</span> │\n",
       "│ (<span style=\"color: #0087ff; text-decoration-color: #0087ff\">AveragePooling2D</span>)              │                        │               │\n",
       "├─────────────────────────────────┼────────────────────────┼───────────────┤\n",
       "│ conv2d_3 (<span style=\"color: #0087ff; text-decoration-color: #0087ff\">Conv2D</span>)               │ (<span style=\"color: #00d7ff; text-decoration-color: #00d7ff\">None</span>, <span style=\"color: #00af00; text-decoration-color: #00af00\">10</span>, <span style=\"color: #00af00; text-decoration-color: #00af00\">10</span>, <span style=\"color: #00af00; text-decoration-color: #00af00\">16</span>)     │         <span style=\"color: #00af00; text-decoration-color: #00af00\">2,416</span> │\n",
       "├─────────────────────────────────┼────────────────────────┼───────────────┤\n",
       "│ average_pooling2d_3             │ (<span style=\"color: #00d7ff; text-decoration-color: #00d7ff\">None</span>, <span style=\"color: #00af00; text-decoration-color: #00af00\">5</span>, <span style=\"color: #00af00; text-decoration-color: #00af00\">5</span>, <span style=\"color: #00af00; text-decoration-color: #00af00\">16</span>)       │             <span style=\"color: #00af00; text-decoration-color: #00af00\">0</span> │\n",
       "│ (<span style=\"color: #0087ff; text-decoration-color: #0087ff\">AveragePooling2D</span>)              │                        │               │\n",
       "├─────────────────────────────────┼────────────────────────┼───────────────┤\n",
       "│ flatten_1 (<span style=\"color: #0087ff; text-decoration-color: #0087ff\">Flatten</span>)             │ (<span style=\"color: #00d7ff; text-decoration-color: #00d7ff\">None</span>, <span style=\"color: #00af00; text-decoration-color: #00af00\">400</span>)            │             <span style=\"color: #00af00; text-decoration-color: #00af00\">0</span> │\n",
       "├─────────────────────────────────┼────────────────────────┼───────────────┤\n",
       "│ dense_3 (<span style=\"color: #0087ff; text-decoration-color: #0087ff\">Dense</span>)                 │ (<span style=\"color: #00d7ff; text-decoration-color: #00d7ff\">None</span>, <span style=\"color: #00af00; text-decoration-color: #00af00\">120</span>)            │        <span style=\"color: #00af00; text-decoration-color: #00af00\">48,120</span> │\n",
       "├─────────────────────────────────┼────────────────────────┼───────────────┤\n",
       "│ dense_4 (<span style=\"color: #0087ff; text-decoration-color: #0087ff\">Dense</span>)                 │ (<span style=\"color: #00d7ff; text-decoration-color: #00d7ff\">None</span>, <span style=\"color: #00af00; text-decoration-color: #00af00\">84</span>)             │        <span style=\"color: #00af00; text-decoration-color: #00af00\">10,164</span> │\n",
       "├─────────────────────────────────┼────────────────────────┼───────────────┤\n",
       "│ dense_5 (<span style=\"color: #0087ff; text-decoration-color: #0087ff\">Dense</span>)                 │ (<span style=\"color: #00d7ff; text-decoration-color: #00d7ff\">None</span>, <span style=\"color: #00af00; text-decoration-color: #00af00\">2</span>)              │           <span style=\"color: #00af00; text-decoration-color: #00af00\">170</span> │\n",
       "└─────────────────────────────────┴────────────────────────┴───────────────┘\n",
       "</pre>\n"
      ],
      "text/plain": [
       "┏━━━━━━━━━━━━━━━━━━━━━━━━━━━━━━━━━┳━━━━━━━━━━━━━━━━━━━━━━━━┳━━━━━━━━━━━━━━━┓\n",
       "┃\u001b[1m \u001b[0m\u001b[1mLayer (type)                   \u001b[0m\u001b[1m \u001b[0m┃\u001b[1m \u001b[0m\u001b[1mOutput Shape          \u001b[0m\u001b[1m \u001b[0m┃\u001b[1m \u001b[0m\u001b[1m      Param #\u001b[0m\u001b[1m \u001b[0m┃\n",
       "┡━━━━━━━━━━━━━━━━━━━━━━━━━━━━━━━━━╇━━━━━━━━━━━━━━━━━━━━━━━━╇━━━━━━━━━━━━━━━┩\n",
       "│ conv2d_2 (\u001b[38;5;33mConv2D\u001b[0m)               │ (\u001b[38;5;45mNone\u001b[0m, \u001b[38;5;34m28\u001b[0m, \u001b[38;5;34m28\u001b[0m, \u001b[38;5;34m6\u001b[0m)      │           \u001b[38;5;34m156\u001b[0m │\n",
       "├─────────────────────────────────┼────────────────────────┼───────────────┤\n",
       "│ average_pooling2d_2             │ (\u001b[38;5;45mNone\u001b[0m, \u001b[38;5;34m14\u001b[0m, \u001b[38;5;34m14\u001b[0m, \u001b[38;5;34m6\u001b[0m)      │             \u001b[38;5;34m0\u001b[0m │\n",
       "│ (\u001b[38;5;33mAveragePooling2D\u001b[0m)              │                        │               │\n",
       "├─────────────────────────────────┼────────────────────────┼───────────────┤\n",
       "│ conv2d_3 (\u001b[38;5;33mConv2D\u001b[0m)               │ (\u001b[38;5;45mNone\u001b[0m, \u001b[38;5;34m10\u001b[0m, \u001b[38;5;34m10\u001b[0m, \u001b[38;5;34m16\u001b[0m)     │         \u001b[38;5;34m2,416\u001b[0m │\n",
       "├─────────────────────────────────┼────────────────────────┼───────────────┤\n",
       "│ average_pooling2d_3             │ (\u001b[38;5;45mNone\u001b[0m, \u001b[38;5;34m5\u001b[0m, \u001b[38;5;34m5\u001b[0m, \u001b[38;5;34m16\u001b[0m)       │             \u001b[38;5;34m0\u001b[0m │\n",
       "│ (\u001b[38;5;33mAveragePooling2D\u001b[0m)              │                        │               │\n",
       "├─────────────────────────────────┼────────────────────────┼───────────────┤\n",
       "│ flatten_1 (\u001b[38;5;33mFlatten\u001b[0m)             │ (\u001b[38;5;45mNone\u001b[0m, \u001b[38;5;34m400\u001b[0m)            │             \u001b[38;5;34m0\u001b[0m │\n",
       "├─────────────────────────────────┼────────────────────────┼───────────────┤\n",
       "│ dense_3 (\u001b[38;5;33mDense\u001b[0m)                 │ (\u001b[38;5;45mNone\u001b[0m, \u001b[38;5;34m120\u001b[0m)            │        \u001b[38;5;34m48,120\u001b[0m │\n",
       "├─────────────────────────────────┼────────────────────────┼───────────────┤\n",
       "│ dense_4 (\u001b[38;5;33mDense\u001b[0m)                 │ (\u001b[38;5;45mNone\u001b[0m, \u001b[38;5;34m84\u001b[0m)             │        \u001b[38;5;34m10,164\u001b[0m │\n",
       "├─────────────────────────────────┼────────────────────────┼───────────────┤\n",
       "│ dense_5 (\u001b[38;5;33mDense\u001b[0m)                 │ (\u001b[38;5;45mNone\u001b[0m, \u001b[38;5;34m2\u001b[0m)              │           \u001b[38;5;34m170\u001b[0m │\n",
       "└─────────────────────────────────┴────────────────────────┴───────────────┘\n"
      ]
     },
     "metadata": {},
     "output_type": "display_data"
    },
    {
     "data": {
      "text/html": [
       "<pre style=\"white-space:pre;overflow-x:auto;line-height:normal;font-family:Menlo,'DejaVu Sans Mono',consolas,'Courier New',monospace\"><span style=\"font-weight: bold\"> Total params: </span><span style=\"color: #00af00; text-decoration-color: #00af00\">183,080</span> (715.16 KB)\n",
       "</pre>\n"
      ],
      "text/plain": [
       "\u001b[1m Total params: \u001b[0m\u001b[38;5;34m183,080\u001b[0m (715.16 KB)\n"
      ]
     },
     "metadata": {},
     "output_type": "display_data"
    },
    {
     "data": {
      "text/html": [
       "<pre style=\"white-space:pre;overflow-x:auto;line-height:normal;font-family:Menlo,'DejaVu Sans Mono',consolas,'Courier New',monospace\"><span style=\"font-weight: bold\"> Trainable params: </span><span style=\"color: #00af00; text-decoration-color: #00af00\">61,026</span> (238.38 KB)\n",
       "</pre>\n"
      ],
      "text/plain": [
       "\u001b[1m Trainable params: \u001b[0m\u001b[38;5;34m61,026\u001b[0m (238.38 KB)\n"
      ]
     },
     "metadata": {},
     "output_type": "display_data"
    },
    {
     "data": {
      "text/html": [
       "<pre style=\"white-space:pre;overflow-x:auto;line-height:normal;font-family:Menlo,'DejaVu Sans Mono',consolas,'Courier New',monospace\"><span style=\"font-weight: bold\"> Non-trainable params: </span><span style=\"color: #00af00; text-decoration-color: #00af00\">0</span> (0.00 B)\n",
       "</pre>\n"
      ],
      "text/plain": [
       "\u001b[1m Non-trainable params: \u001b[0m\u001b[38;5;34m0\u001b[0m (0.00 B)\n"
      ]
     },
     "metadata": {},
     "output_type": "display_data"
    },
    {
     "data": {
      "text/html": [
       "<pre style=\"white-space:pre;overflow-x:auto;line-height:normal;font-family:Menlo,'DejaVu Sans Mono',consolas,'Courier New',monospace\"><span style=\"font-weight: bold\"> Optimizer params: </span><span style=\"color: #00af00; text-decoration-color: #00af00\">122,054</span> (476.78 KB)\n",
       "</pre>\n"
      ],
      "text/plain": [
       "\u001b[1m Optimizer params: \u001b[0m\u001b[38;5;34m122,054\u001b[0m (476.78 KB)\n"
      ]
     },
     "metadata": {},
     "output_type": "display_data"
    },
    {
     "name": "stdout",
     "output_type": "stream",
     "text": [
      "\u001b[1m1/1\u001b[0m \u001b[32m━━━━━━━━━━━━━━━━━━━━\u001b[0m\u001b[37m\u001b[0m \u001b[1m0s\u001b[0m 21ms/step\n",
      "\u001b[1m1/1\u001b[0m \u001b[32m━━━━━━━━━━━━━━━━━━━━\u001b[0m\u001b[37m\u001b[0m \u001b[1m0s\u001b[0m 20ms/step\n",
      "\u001b[1m1/1\u001b[0m \u001b[32m━━━━━━━━━━━━━━━━━━━━\u001b[0m\u001b[37m\u001b[0m \u001b[1m0s\u001b[0m 25ms/step\n",
      "\u001b[1m1/1\u001b[0m \u001b[32m━━━━━━━━━━━━━━━━━━━━\u001b[0m\u001b[37m\u001b[0m \u001b[1m0s\u001b[0m 24ms/step\n",
      "\u001b[1m1/1\u001b[0m \u001b[32m━━━━━━━━━━━━━━━━━━━━\u001b[0m\u001b[37m\u001b[0m \u001b[1m0s\u001b[0m 26ms/step\n",
      "\u001b[1m1/1\u001b[0m \u001b[32m━━━━━━━━━━━━━━━━━━━━\u001b[0m\u001b[37m\u001b[0m \u001b[1m0s\u001b[0m 29ms/step\n",
      "\u001b[1m1/1\u001b[0m \u001b[32m━━━━━━━━━━━━━━━━━━━━\u001b[0m\u001b[37m\u001b[0m \u001b[1m0s\u001b[0m 31ms/step\n",
      "\u001b[1m1/1\u001b[0m \u001b[32m━━━━━━━━━━━━━━━━━━━━\u001b[0m\u001b[37m\u001b[0m \u001b[1m0s\u001b[0m 35ms/step\n"
     ]
    },
    {
     "data": {
      "image/png": "[encoded data removed]",
      "text/plain": [
       "<Figure size 576x360 with 10 Axes>"
      ]
     },
     "metadata": {
      "needs_background": "light"
     },
     "output_type": "display_data"
    },
    {
     "data": {
      "image/png": "[encoded data removed]",
      "text/plain": [
       "<Figure size 576x360 with 10 Axes>"
      ]
     },
     "metadata": {
      "needs_background": "light"
     },
     "output_type": "display_data"
    },
    {
     "data": {
      "image/png": "[encoded data removed]",
      "text/plain": [
       "<Figure size 576x720 with 20 Axes>"
      ]
     },
     "metadata": {
      "needs_background": "light"
     },
     "output_type": "display_data"
    },
    {
     "data": {
      "image/png": "[encoded data removed]",
      "text/plain": [
       "<Figure size 576x720 with 20 Axes>"
      ]
     },
     "metadata": {
      "needs_background": "light"
     },
     "output_type": "display_data"
    }
   ],
   "source": [
    "model.summary()\n",
    "# Visualizzare come il modello agisce sulle immagini\n",
    "plot_cnn_transformations(model, images_testing_cnn)"
   ]
  },
  {
   "cell_type": "markdown",
   "metadata": {},
   "source": [
    "## Considerazioni sulle Tecniche Avanzate\n",
    "Durante la fase di sperimentazione, sono state provate diverse tecniche avanzate per migliorare le prestazioni del modello, tra cui la **Data Augmentation** (con `ImageDataGenerator` di TensorFlow), l'aggiunta di livelli di **Dropout** e l'uso della **BatchNormalization**. Tuttavia, queste tecniche hanno portato a risultati peggiori rispetto al modello addestrato con i dati originali e ottimizzato utilizzando la ricerca di iperparametri.\n",
    "\n",
    "### Data Augmentation\n",
    "La **Data Augmentation** è stata implementata utilizzando `ImageDataGenerator`, che permette di creare nuove versioni modificate delle immagini di training, come rotazioni, spostamenti e zoom. L'obiettivo era aumentare la varietà dei dati per migliorare la generalizzazione del modello. Tuttavia, in questo caso specifico, l'uso della Data Augmentation ha introdotto una maggiore complessità nei dati che ha peggiorato le prestazioni del modello, che su questo caso di applicazione sembra preferire esclusivamente immagini standardizzate.\n",
    "\n",
    "Esempio di implementazione:\n",
    "\n",
    "```python\n",
    "from tensorflow.keras.preprocessing.image import ImageDataGenerator\n",
    "\n",
    "datagen = ImageDataGenerator(\n",
    "    rotation_range=10,\n",
    "    width_shift_range=0.1,\n",
    "    height_shift_range=0.1,\n",
    "    zoom_range=0.1,\n",
    "    horizontal_flip=True\n",
    ")\n",
    "datagen.fit(images_training_cnn)\n",
    "```\n",
    "\n",
    "### Dropout\n",
    "Il **Dropout** è una tecnica di regolarizzazione la cui idea chiave è quella di fare Dropping Out di alcune unità nella NN in modo randomico durante l'addestramento per prevenire l'overfitting. In questo esperimento, l'aggiunta di livelli di Dropout è stata testata dopo i livelli densi, ma ha portato a una riduzione dell'accuratezza del modello, probabilmente a causa della perdita di informazioni importanti.\n",
    "\n",
    "Esempio di implementazione:\n",
    "\n",
    "```python\n",
    "model.add(keras.layers.Dropout(0.3))\n",
    "```\n",
    "\n",
    "### BatchNormalization\n",
    "La **BatchNormalization** normalizza gli output di un livello precedente per migliorare la stabilità e la velocità del processo di addestramento. Anche se spesso utile, in questo caso l'introduzione di BatchNormalization non ha migliorato le prestazioni del modello, e anzi ha portato a risultati inferiori, probabilmente a causa della già buona normalizzazione dei dati di input.\n",
    "\n",
    "Esempio di implementazione:\n",
    "\n",
    "```python\n",
    "model.add(keras.layers.BatchNormalization())\n",
    "```\n",
    "\n",
    "### Conclusioni\n",
    "Considerati i risultati delle sperimentazioni, si è deciso di interrompere ulteriori tentativi con le tecniche avanzate e di considerare il modello attuale, addestrato sui dati originali e ottimizzato con la ricerca degli iperparametri, come il migliore raggiungibile con questo approccio. Non rimane che visualizzare su un grafico finale il confronto tra le quattro metriche principali (accuracy, precision, recall e F1-score) per comparare i differenti modelli analizzati durante il processo."
   ]
  },
  {
   "cell_type": "markdown",
   "metadata": {},
   "source": [
    "## Confronto Finale delle Performance\n",
    "\n",
    "Visualizziamo un grafico che mostra il confronto tra i diversi modelli analizzati durante il processo, utilizzando le metriche chiave: accuracy, precision, recall e F1-score.\n",
    "\n",
    "(Codice per la visualizzazione del confronto delle performance)"
   ]
  },
  {
   "cell_type": "code",
   "execution_count": 14,
   "metadata": {},
   "outputs": [
    {
     "data": {
      "image/png": "[encoded data removed]",
      "text/plain": [
       "<Figure size 1440x864 with 4 Axes>"
      ]
     },
     "metadata": {},
     "output_type": "display_data"
    }
   ],
   "source": [
    "plot_global_comparison((0.9, 0.98))"
   ]
  }
 ],
 "metadata": {
  "kernelspec": {
   "display_name": "Python 3",
   "language": "python",
   "name": "python3"
  },
  "language_info": {
   "codemirror_mode": {
    "name": "ipython",
    "version": 3
   },
   "file_extension": ".py",
   "mimetype": "text/x-python",
   "name": "python",
   "nbconvert_exporter": "python",
   "pygments_lexer": "ipython3",
   "version": "3.10.12"
  }
 },
 "nbformat": 4,
 "nbformat_minor": 2
}
